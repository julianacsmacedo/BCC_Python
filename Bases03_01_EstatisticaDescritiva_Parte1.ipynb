{
  "nbformat": 4,
  "nbformat_minor": 0,
  "metadata": {
    "colab": {
      "name": "Bases03_01_EstatisticaDescritiva_Parte1.ipynb",
      "provenance": [],
      "include_colab_link": true
    },
    "kernelspec": {
      "name": "python3",
      "display_name": "Python 3"
    }
  },
  "cells": [
    {
      "cell_type": "markdown",
      "metadata": {
        "id": "view-in-github",
        "colab_type": "text"
      },
      "source": [
        "<a href=\"https://colab.research.google.com/github/julianacsmacedo/BCC_Python/blob/main/Bases03_01_EstatisticaDescritiva_Parte1.ipynb\" target=\"_parent\"><img src=\"https://colab.research.google.com/assets/colab-badge.svg\" alt=\"Open In Colab\"/></a>"
      ]
    },
    {
      "cell_type": "markdown",
      "metadata": {
        "id": "_KJSn9as96pO"
      },
      "source": [
        "# Estatística Descritiva (Parte 1)\n",
        "\n"
      ]
    },
    {
      "cell_type": "markdown",
      "metadata": {
        "id": "gBylBVCP1RrW"
      },
      "source": [
        "\n",
        "```\n",
        "(*) Inspirado em material preparado pelo Prof. Ronaldo Prati \n",
        "```\n"
      ]
    },
    {
      "cell_type": "markdown",
      "metadata": {
        "id": "Wxow8PtQDf7R"
      },
      "source": [
        "A Estatística é um ramo da Matemática voltado à análise dados. Ela se encontra na base do método científico, pois os dados obtidos em experimentos científicos devem ser analisados rigorosamente através de métodos da Estatística.\n",
        "\n",
        "A estatística descritiva, tem por objetivo sintetizar, ou seja, resumir uma série de valores de mesma natureza, permitindo dessa forma que se tenha uma visão global da variação desses valores. A estatística descritiva organiza e descreve os dados de três maneiras: por meio de tabelas, de gráficos e de\n",
        "medidas descritivas. \n",
        "\n",
        "Como **medidas descritivas** podemos citar as medidas de tendência central, as  medidas de dispersão e as medidas de distribuição.\n"
      ]
    },
    {
      "cell_type": "markdown",
      "metadata": {
        "id": "PN2Pr4wt3ZCy"
      },
      "source": [
        "## Base de dados de Pacientes"
      ]
    },
    {
      "cell_type": "markdown",
      "metadata": {
        "id": "-kRhoDH99IKP"
      },
      "source": [
        "Antes de conhecer as funções da linguagem python para obtenção das medidas descritivas precisamos carregar e explorar a base de dados que vamos utilizar para os cálculos."
      ]
    },
    {
      "cell_type": "markdown",
      "metadata": {
        "id": "TB0Ld77v9m_R"
      },
      "source": [
        "As instruções a seguir carregam uma base de dados de PACIENTES contendo informações como Identificação, Altura, Peso, Pulsação (batimentos por minuto), Pressão sistólica e diastólica, taxa de colesterol e Índice de Massa Corporal (IMC)."
      ]
    },
    {
      "cell_type": "code",
      "metadata": {
        "id": "LGv_wDpYDizP",
        "colab": {
          "base_uri": "https://localhost:8080/",
          "height": 204
        },
        "outputId": "82485e25-0b14-4f93-e42c-bf9934b7194f"
      },
      "source": [
        "import pandas as pd \n",
        "#https://drive.google.com/file/d/1foZsAIE3sSoFf53ENs9QCQ29ZqcMOxac/view?usp=sharing\n",
        "codigo = \"1foZsAIE3sSoFf53ENs9QCQ29ZqcMOxac\"\n",
        "file = \"https://drive.google.com/u/3/uc?id=\" + codigo + \"&export=download\"\n",
        "# Base de Dados de Pacientes\n",
        "# Note a especificação de SEPARADOR (ponto e vírgula)\n",
        "# Note a especificação de VÍRGULA DECIMAL\n",
        "pacientes = pd.read_csv(file, sep = \";\",decimal=\",\")\n",
        "#df = pd.read_csv(file)\n",
        "pacientes.head()"
      ],
      "execution_count": null,
      "outputs": [
        {
          "output_type": "execute_result",
          "data": {
            "text/html": [
              "<div>\n",
              "<style scoped>\n",
              "    .dataframe tbody tr th:only-of-type {\n",
              "        vertical-align: middle;\n",
              "    }\n",
              "\n",
              "    .dataframe tbody tr th {\n",
              "        vertical-align: top;\n",
              "    }\n",
              "\n",
              "    .dataframe thead th {\n",
              "        text-align: right;\n",
              "    }\n",
              "</style>\n",
              "<table border=\"1\" class=\"dataframe\">\n",
              "  <thead>\n",
              "    <tr style=\"text-align: right;\">\n",
              "      <th></th>\n",
              "      <th>Ident</th>\n",
              "      <th>Idade</th>\n",
              "      <th>Altura</th>\n",
              "      <th>Peso</th>\n",
              "      <th>Pulsacao</th>\n",
              "      <th>Sistolica</th>\n",
              "      <th>Diastolica</th>\n",
              "      <th>Colesterol</th>\n",
              "      <th>IMC</th>\n",
              "    </tr>\n",
              "  </thead>\n",
              "  <tbody>\n",
              "    <tr>\n",
              "      <th>0</th>\n",
              "      <td>1</td>\n",
              "      <td>58</td>\n",
              "      <td>1.80</td>\n",
              "      <td>76.1</td>\n",
              "      <td>68</td>\n",
              "      <td>125</td>\n",
              "      <td>78</td>\n",
              "      <td>522</td>\n",
              "      <td>23.5</td>\n",
              "    </tr>\n",
              "    <tr>\n",
              "      <th>1</th>\n",
              "      <td>2</td>\n",
              "      <td>22</td>\n",
              "      <td>1.68</td>\n",
              "      <td>64.9</td>\n",
              "      <td>64</td>\n",
              "      <td>107</td>\n",
              "      <td>54</td>\n",
              "      <td>127</td>\n",
              "      <td>23.0</td>\n",
              "    </tr>\n",
              "    <tr>\n",
              "      <th>2</th>\n",
              "      <td>3</td>\n",
              "      <td>32</td>\n",
              "      <td>1.82</td>\n",
              "      <td>80.7</td>\n",
              "      <td>88</td>\n",
              "      <td>126</td>\n",
              "      <td>81</td>\n",
              "      <td>740</td>\n",
              "      <td>24.3</td>\n",
              "    </tr>\n",
              "    <tr>\n",
              "      <th>3</th>\n",
              "      <td>4</td>\n",
              "      <td>31</td>\n",
              "      <td>1.74</td>\n",
              "      <td>79.1</td>\n",
              "      <td>72</td>\n",
              "      <td>110</td>\n",
              "      <td>68</td>\n",
              "      <td>49</td>\n",
              "      <td>26.0</td>\n",
              "    </tr>\n",
              "    <tr>\n",
              "      <th>4</th>\n",
              "      <td>5</td>\n",
              "      <td>28</td>\n",
              "      <td>1.72</td>\n",
              "      <td>68.7</td>\n",
              "      <td>64</td>\n",
              "      <td>110</td>\n",
              "      <td>66</td>\n",
              "      <td>230</td>\n",
              "      <td>23.3</td>\n",
              "    </tr>\n",
              "  </tbody>\n",
              "</table>\n",
              "</div>"
            ],
            "text/plain": [
              "   Ident  Idade  Altura  Peso  ...  Sistolica  Diastolica  Colesterol   IMC\n",
              "0      1     58    1.80  76.1  ...        125          78         522  23.5\n",
              "1      2     22    1.68  64.9  ...        107          54         127  23.0\n",
              "2      3     32    1.82  80.7  ...        126          81         740  24.3\n",
              "3      4     31    1.74  79.1  ...        110          68          49  26.0\n",
              "4      5     28    1.72  68.7  ...        110          66         230  23.3\n",
              "\n",
              "[5 rows x 9 columns]"
            ]
          },
          "metadata": {},
          "execution_count": 2
        }
      ]
    },
    {
      "cell_type": "code",
      "metadata": {
        "id": "WLnGnhW2G55q",
        "colab": {
          "base_uri": "https://localhost:8080/"
        },
        "outputId": "be80df5f-6d74-48ef-e56b-cb45dbee5242"
      },
      "source": [
        "# Note a coluna Dtype que mostra os tipos de dados (int64 - inteiro; float64 - real)\n",
        "pacientes.info()"
      ],
      "execution_count": null,
      "outputs": [
        {
          "output_type": "stream",
          "name": "stdout",
          "text": [
            "<class 'pandas.core.frame.DataFrame'>\n",
            "RangeIndex: 21 entries, 0 to 20\n",
            "Data columns (total 9 columns):\n",
            " #   Column      Non-Null Count  Dtype  \n",
            "---  ------      --------------  -----  \n",
            " 0   Ident       21 non-null     int64  \n",
            " 1   Idade       21 non-null     int64  \n",
            " 2   Altura      21 non-null     float64\n",
            " 3   Peso        21 non-null     float64\n",
            " 4   Pulsacao    21 non-null     int64  \n",
            " 5   Sistolica   21 non-null     int64  \n",
            " 6   Diastolica  21 non-null     int64  \n",
            " 7   Colesterol  21 non-null     int64  \n",
            " 8   IMC         21 non-null     float64\n",
            "dtypes: float64(3), int64(6)\n",
            "memory usage: 1.6 KB\n"
          ]
        }
      ]
    },
    {
      "cell_type": "markdown",
      "metadata": {
        "id": "qrQ5YhV8gOmX"
      },
      "source": [
        "## Medidas de Tendência Central\n",
        "A partir dos dados dos pacientes podemos querer saber como vai a saúde deste grupo. Se a lista for muito grande, torna-se complicado analisar um a um. Um primeiro passo é analisar informações que sumarizam (resumem) os dados e então verificar se é possível tirar conclusões. Em geral, podemos ter uma boa ideia disso analisando a tendência central.\n",
        "\n",
        "Uma **tendência central** (ou, normalmente, uma medida de tendência central) é um valor central ou valor típico para um certo atributo. As medidas  de tendência central mais comuns são:\n",
        "\n",
        "- **Média aritmética** (ou simplesmente, média) - obtida pela soma de todas as medições divididas pelo número de observações no conjunto de dados.\n",
        "- **Mediana** - obtida a partir dos dados ordenados, encontrando-se o valor (pertencente ou não à amostra) que a divide ao meio, isto é, 50% dos elementos da amostra são menores ou iguais à mediana e os outros 50% são maiores ou iguais à mediana. \n",
        "- **Moda** -  valor que aparece com maior frequência no conjunto de dados.\n",
        "\n",
        "O Pandas tem funções pré-definidas que calculam essas medidas de tendência central:"
      ]
    },
    {
      "cell_type": "markdown",
      "metadata": {
        "id": "ZlMdvKC-k5cR"
      },
      "source": [
        "### Média\n",
        "\n",
        "Por exemplo, para calcular a média das avaliações, podemos usar a função `mean`, que calcula a média de cada coluna da base de dados."
      ]
    },
    {
      "cell_type": "code",
      "metadata": {
        "id": "jNoSbTpReeib",
        "colab": {
          "base_uri": "https://localhost:8080/"
        },
        "outputId": "2283fe99-57c6-4613-9e3c-b08fa08b969b"
      },
      "source": [
        "##  média aritimética\n",
        "pacientes.mean()"
      ],
      "execution_count": null,
      "outputs": [
        {
          "output_type": "execute_result",
          "data": {
            "text/plain": [
              "Ident          11.000000\n",
              "Idade          36.476190\n",
              "Altura          1.731905\n",
              "Peso           77.904762\n",
              "Pulsacao       72.761905\n",
              "Sistolica     119.952381\n",
              "Diastolica     73.428571\n",
              "Colesterol    338.285714\n",
              "IMC            25.976190\n",
              "dtype: float64"
            ]
          },
          "metadata": {},
          "execution_count": 4
        }
      ]
    },
    {
      "cell_type": "markdown",
      "metadata": {
        "id": "Gx0QuEN6lFaF"
      },
      "source": [
        "A instrução acima, aplicada ao `dataframe` mostra a média de todos os atributos. Mas por exemplo, não faz sentido calcular a média do atributo \"Ident\" (código do paciente). \n",
        "\n",
        "Além disso, normalmente queremos analisar a média de um determinado atributo que queremos investigar. \n",
        "\n"
      ]
    },
    {
      "cell_type": "markdown",
      "metadata": {
        "id": "tnWUGJd5b5NB"
      },
      "source": [
        "#### Média especificando o atributo\n",
        "\n",
        "Para calcular a média de um atributo específico, como a pressão sistólica, devemos especificar o nome do atributo. \n",
        "\n",
        "Pode-se usar essa notação a seguir, com o atributo entre colchetes: **`[Sistolica]`**"
      ]
    },
    {
      "cell_type": "code",
      "metadata": {
        "id": "nSBXLZRNb-9l",
        "colab": {
          "base_uri": "https://localhost:8080/"
        },
        "outputId": "eb7d4780-5d29-4a2a-8493-eb5485074b73"
      },
      "source": [
        "#média da pressão sistólica\n",
        "pacientes[\"Sistolica\"].mean()\n"
      ],
      "execution_count": null,
      "outputs": [
        {
          "output_type": "execute_result",
          "data": {
            "text/plain": [
              "119.95238095238095"
            ]
          },
          "metadata": {},
          "execution_count": 5
        }
      ]
    },
    {
      "cell_type": "markdown",
      "metadata": {
        "id": "aq2mJxvRBcwp"
      },
      "source": [
        "Outra notação, um pouco mais simples é usar o nome do atributo direto (sem os colchetes, mas com um ponto extra): **`.Sistolica`**"
      ]
    },
    {
      "cell_type": "code",
      "metadata": {
        "id": "Geq-izIoTj2Y",
        "colab": {
          "base_uri": "https://localhost:8080/"
        },
        "outputId": "b6bfcf2b-19f7-4899-bb39-e3fa3ecc8af6"
      },
      "source": [
        "# Outra possibilidade de obtenção da média de um determinado atributo\n",
        "pacientes.Sistolica.mean()"
      ],
      "execution_count": null,
      "outputs": [
        {
          "output_type": "execute_result",
          "data": {
            "text/plain": [
              "119.95238095238095"
            ]
          },
          "metadata": {},
          "execution_count": 6
        }
      ]
    },
    {
      "cell_type": "markdown",
      "metadata": {
        "id": "Hyq03z6TuVrO"
      },
      "source": [
        "O Python permite-nos restringir o número de casas decimais, usando o print com formatação. Veja o exemplo a seguir:\n",
        "* \"%.2f\" (entre aspas) indica que são 2 casas decimais\n",
        "* Note que há % entre o formato (\"%.2f\") e o que será exibido (pacientes.Sistolica.mean()) no respectivo formato."
      ]
    },
    {
      "cell_type": "code",
      "metadata": {
        "id": "jG4s2dTruHdz",
        "colab": {
          "base_uri": "https://localhost:8080/"
        },
        "outputId": "8b369aac-d374-48ea-bdcd-373318919e1a"
      },
      "source": [
        "# imprimindo com 2 casas decimais: .2\n",
        "print(\"%.2f\" % pacientes.Sistolica.mean()) "
      ],
      "execution_count": null,
      "outputs": [
        {
          "output_type": "stream",
          "name": "stdout",
          "text": [
            "119.95\n"
          ]
        }
      ]
    },
    {
      "cell_type": "markdown",
      "metadata": {
        "id": "F6HyGJoFv1NY"
      },
      "source": [
        "Outra possibilidade é atribuir o resultado para uma variável (por exemplo, media) antes de mostrar na tela (com o `print`)"
      ]
    },
    {
      "cell_type": "code",
      "metadata": {
        "id": "lZ6SoV6lwCzD",
        "colab": {
          "base_uri": "https://localhost:8080/"
        },
        "outputId": "e5d4effd-a419-4f4a-d3ce-6327d59ff15c"
      },
      "source": [
        "# atribuindo a média para uma variável\n",
        "media = pacientes.Sistolica.mean()\n",
        "# imprimindo com 2 casas decimais: .2\n",
        "print(\"%.2f\" % media) "
      ],
      "execution_count": null,
      "outputs": [
        {
          "output_type": "stream",
          "name": "stdout",
          "text": [
            "119.95\n"
          ]
        }
      ]
    },
    {
      "cell_type": "markdown",
      "metadata": {
        "id": "QZ0fcVkqYiyS"
      },
      "source": [
        "Para tentar analisar o significado dessa média, podemos verificar os valores extremos de `Sistolica `(maior e menor)."
      ]
    },
    {
      "cell_type": "code",
      "metadata": {
        "id": "B0wLr6AZYNuI",
        "colab": {
          "base_uri": "https://localhost:8080/"
        },
        "outputId": "4f71c05b-0840-436c-ca8f-a42d3c82b60b"
      },
      "source": [
        "# Maior Valor de Pressão Sistólica\n",
        "pacientes.Sistolica.max()"
      ],
      "execution_count": null,
      "outputs": [
        {
          "output_type": "execute_result",
          "data": {
            "text/plain": [
              "153"
            ]
          },
          "metadata": {},
          "execution_count": 9
        }
      ]
    },
    {
      "cell_type": "code",
      "metadata": {
        "id": "XUADVExgYvvL",
        "colab": {
          "base_uri": "https://localhost:8080/"
        },
        "outputId": "ab117d87-3d6a-49d1-b5a8-fcef61122136"
      },
      "source": [
        "# Menor Valor de Pressão Sistólica\n",
        "pacientes.Sistolica.min()"
      ],
      "execution_count": null,
      "outputs": [
        {
          "output_type": "execute_result",
          "data": {
            "text/plain": [
              "107"
            ]
          },
          "metadata": {},
          "execution_count": 10
        }
      ]
    },
    {
      "cell_type": "markdown",
      "metadata": {
        "id": "pYbYdl3qY1P7"
      },
      "source": [
        "Nota-se uma variação razoável entre a média `mean()` (119.95) , a maior `max()`pressão sistólica (153) e a menor `min()` pressão sistólica (107). Poderemos entender melhor esta variação, mais adiante, com as medidas de dispersão. Mas antes disso, vamos ver as outras medidas de tendência central."
      ]
    },
    {
      "cell_type": "markdown",
      "metadata": {
        "id": "ouEm0eQ5cCQ-"
      },
      "source": [
        "### Mediana\n",
        "\n",
        "A mediana pode ser calculada usando a função `median`:"
      ]
    },
    {
      "cell_type": "code",
      "metadata": {
        "id": "_3AW3ND2fnQZ",
        "colab": {
          "base_uri": "https://localhost:8080/"
        },
        "outputId": "f389293f-632c-4b92-e2f7-a48399c37be3"
      },
      "source": [
        "# mediana\n",
        "pacientes.median()"
      ],
      "execution_count": null,
      "outputs": [
        {
          "output_type": "execute_result",
          "data": {
            "text/plain": [
              "Ident          11.00\n",
              "Idade          32.00\n",
              "Altura          1.73\n",
              "Peso           76.10\n",
              "Pulsacao       72.00\n",
              "Sistolica     119.00\n",
              "Diastolica     76.00\n",
              "Colesterol    265.00\n",
              "IMC            26.00\n",
              "dtype: float64"
            ]
          },
          "metadata": {},
          "execution_count": 11
        }
      ]
    },
    {
      "cell_type": "markdown",
      "metadata": {
        "id": "Hzdo1N7MXzgs"
      },
      "source": [
        "#### Mediana especificando o atributo\n",
        "Calculando a mediana somente do atributo `Idade`"
      ]
    },
    {
      "cell_type": "code",
      "metadata": {
        "id": "7FaXpfkfX5y8",
        "colab": {
          "base_uri": "https://localhost:8080/"
        },
        "outputId": "e793bd35-7d71-4094-9d1b-e78ac0e843e3"
      },
      "source": [
        "pacientes.Sistolica.median()"
      ],
      "execution_count": null,
      "outputs": [
        {
          "output_type": "execute_result",
          "data": {
            "text/plain": [
              "119.0"
            ]
          },
          "metadata": {},
          "execution_count": 12
        }
      ]
    },
    {
      "cell_type": "markdown",
      "metadata": {
        "id": "UOd2sDYVowjn"
      },
      "source": [
        "Nesse caso, os valores da média e da mediana não diferem muito (respectivamente 119.95 e 119), e ambos poderiam ser usados como um representante da tendência central do atributo `Sistólica`.  Vale lembrar, que mesmo havendo valores extremos de `Sistolica` (mínimo = 107 e máximo = 153) razoavelmente distantes da Média (119.95), ainda assim a Média e Mediana são valores próximos.\n",
        "\n",
        "Na presença de valores extremos, a mediana pode ser uma medida **menos sensível** a presença desses valores. \n",
        "\n"
      ]
    },
    {
      "cell_type": "markdown",
      "metadata": {
        "id": "HLS4F9mGcHZ1"
      },
      "source": [
        "### Moda\n",
        "\n",
        "A moda representa o valor que mais ocorre na base de dados. A moda pode **não** existir ou pode não ser única."
      ]
    },
    {
      "cell_type": "markdown",
      "metadata": {
        "id": "DV6ITz4FELAY"
      },
      "source": [
        "Uma maneira de obter esse valor seria calcular a frequência de cada valor, agrupando os dados.\n",
        "\n",
        "Por exemplo, para contar a frequência de cada valor de **pressão Sistólica** poderíamos usar a seguinte instrução:"
      ]
    },
    {
      "cell_type": "code",
      "metadata": {
        "id": "tDKHaozCE4qq",
        "colab": {
          "base_uri": "https://localhost:8080/"
        },
        "outputId": "90eb9d1a-e99f-40da-bddd-20b5d75a1792"
      },
      "source": [
        "# Agrupando por Sistolica e contando pelo atributo Sistolica\n",
        "pacientes.groupby(\"Sistolica\")[\"Sistolica\"].count()"
      ],
      "execution_count": null,
      "outputs": [
        {
          "output_type": "execute_result",
          "data": {
            "text/plain": [
              "Sistolica\n",
              "107    2\n",
              "109    1\n",
              "110    3\n",
              "112    2\n",
              "113    2\n",
              "119    1\n",
              "121    2\n",
              "125    2\n",
              "126    2\n",
              "131    1\n",
              "132    1\n",
              "137    1\n",
              "153    1\n",
              "Name: Sistolica, dtype: int64"
            ]
          },
          "metadata": {},
          "execution_count": 13
        }
      ]
    },
    {
      "cell_type": "markdown",
      "metadata": {
        "id": "oLffXN58FFST"
      },
      "source": [
        "Note acima que, **Sistolica = 110** é o valor que ocorre mais vezes (3 vezes). Então, neste caso a moda é 110."
      ]
    },
    {
      "cell_type": "markdown",
      "metadata": {
        "id": "xhQPa3zcFeqD"
      },
      "source": [
        "Mas o Pandas, possui a função `mode` para calcular a moda:"
      ]
    },
    {
      "cell_type": "code",
      "metadata": {
        "id": "NfJBPAVojpoB",
        "colab": {
          "base_uri": "https://localhost:8080/",
          "height": 701
        },
        "outputId": "3ef9a087-a9a4-49f9-9b6d-04448a5f9aa4"
      },
      "source": [
        "# moda\n",
        "pacientes.mode()"
      ],
      "execution_count": null,
      "outputs": [
        {
          "output_type": "execute_result",
          "data": {
            "text/html": [
              "<div>\n",
              "<style scoped>\n",
              "    .dataframe tbody tr th:only-of-type {\n",
              "        vertical-align: middle;\n",
              "    }\n",
              "\n",
              "    .dataframe tbody tr th {\n",
              "        vertical-align: top;\n",
              "    }\n",
              "\n",
              "    .dataframe thead th {\n",
              "        text-align: right;\n",
              "    }\n",
              "</style>\n",
              "<table border=\"1\" class=\"dataframe\">\n",
              "  <thead>\n",
              "    <tr style=\"text-align: right;\">\n",
              "      <th></th>\n",
              "      <th>Ident</th>\n",
              "      <th>Idade</th>\n",
              "      <th>Altura</th>\n",
              "      <th>Peso</th>\n",
              "      <th>Pulsacao</th>\n",
              "      <th>Sistolica</th>\n",
              "      <th>Diastolica</th>\n",
              "      <th>Colesterol</th>\n",
              "      <th>IMC</th>\n",
              "    </tr>\n",
              "  </thead>\n",
              "  <tbody>\n",
              "    <tr>\n",
              "      <th>0</th>\n",
              "      <td>1</td>\n",
              "      <td>20.0</td>\n",
              "      <td>1.73</td>\n",
              "      <td>60.8</td>\n",
              "      <td>64.0</td>\n",
              "      <td>110.0</td>\n",
              "      <td>81.0</td>\n",
              "      <td>265.0</td>\n",
              "      <td>24.3</td>\n",
              "    </tr>\n",
              "    <tr>\n",
              "      <th>1</th>\n",
              "      <td>2</td>\n",
              "      <td>NaN</td>\n",
              "      <td>NaN</td>\n",
              "      <td>61.8</td>\n",
              "      <td>72.0</td>\n",
              "      <td>NaN</td>\n",
              "      <td>NaN</td>\n",
              "      <td>NaN</td>\n",
              "      <td>32.8</td>\n",
              "    </tr>\n",
              "    <tr>\n",
              "      <th>2</th>\n",
              "      <td>3</td>\n",
              "      <td>NaN</td>\n",
              "      <td>NaN</td>\n",
              "      <td>62.6</td>\n",
              "      <td>NaN</td>\n",
              "      <td>NaN</td>\n",
              "      <td>NaN</td>\n",
              "      <td>NaN</td>\n",
              "      <td>NaN</td>\n",
              "    </tr>\n",
              "    <tr>\n",
              "      <th>3</th>\n",
              "      <td>4</td>\n",
              "      <td>NaN</td>\n",
              "      <td>NaN</td>\n",
              "      <td>64.9</td>\n",
              "      <td>NaN</td>\n",
              "      <td>NaN</td>\n",
              "      <td>NaN</td>\n",
              "      <td>NaN</td>\n",
              "      <td>NaN</td>\n",
              "    </tr>\n",
              "    <tr>\n",
              "      <th>4</th>\n",
              "      <td>5</td>\n",
              "      <td>NaN</td>\n",
              "      <td>NaN</td>\n",
              "      <td>68.1</td>\n",
              "      <td>NaN</td>\n",
              "      <td>NaN</td>\n",
              "      <td>NaN</td>\n",
              "      <td>NaN</td>\n",
              "      <td>NaN</td>\n",
              "    </tr>\n",
              "    <tr>\n",
              "      <th>5</th>\n",
              "      <td>6</td>\n",
              "      <td>NaN</td>\n",
              "      <td>NaN</td>\n",
              "      <td>68.7</td>\n",
              "      <td>NaN</td>\n",
              "      <td>NaN</td>\n",
              "      <td>NaN</td>\n",
              "      <td>NaN</td>\n",
              "      <td>NaN</td>\n",
              "    </tr>\n",
              "    <tr>\n",
              "      <th>6</th>\n",
              "      <td>7</td>\n",
              "      <td>NaN</td>\n",
              "      <td>NaN</td>\n",
              "      <td>70.3</td>\n",
              "      <td>NaN</td>\n",
              "      <td>NaN</td>\n",
              "      <td>NaN</td>\n",
              "      <td>NaN</td>\n",
              "      <td>NaN</td>\n",
              "    </tr>\n",
              "    <tr>\n",
              "      <th>7</th>\n",
              "      <td>8</td>\n",
              "      <td>NaN</td>\n",
              "      <td>NaN</td>\n",
              "      <td>73.9</td>\n",
              "      <td>NaN</td>\n",
              "      <td>NaN</td>\n",
              "      <td>NaN</td>\n",
              "      <td>NaN</td>\n",
              "      <td>NaN</td>\n",
              "    </tr>\n",
              "    <tr>\n",
              "      <th>8</th>\n",
              "      <td>9</td>\n",
              "      <td>NaN</td>\n",
              "      <td>NaN</td>\n",
              "      <td>74.7</td>\n",
              "      <td>NaN</td>\n",
              "      <td>NaN</td>\n",
              "      <td>NaN</td>\n",
              "      <td>NaN</td>\n",
              "      <td>NaN</td>\n",
              "    </tr>\n",
              "    <tr>\n",
              "      <th>9</th>\n",
              "      <td>10</td>\n",
              "      <td>NaN</td>\n",
              "      <td>NaN</td>\n",
              "      <td>75.1</td>\n",
              "      <td>NaN</td>\n",
              "      <td>NaN</td>\n",
              "      <td>NaN</td>\n",
              "      <td>NaN</td>\n",
              "      <td>NaN</td>\n",
              "    </tr>\n",
              "    <tr>\n",
              "      <th>10</th>\n",
              "      <td>11</td>\n",
              "      <td>NaN</td>\n",
              "      <td>NaN</td>\n",
              "      <td>76.1</td>\n",
              "      <td>NaN</td>\n",
              "      <td>NaN</td>\n",
              "      <td>NaN</td>\n",
              "      <td>NaN</td>\n",
              "      <td>NaN</td>\n",
              "    </tr>\n",
              "    <tr>\n",
              "      <th>11</th>\n",
              "      <td>12</td>\n",
              "      <td>NaN</td>\n",
              "      <td>NaN</td>\n",
              "      <td>78.8</td>\n",
              "      <td>NaN</td>\n",
              "      <td>NaN</td>\n",
              "      <td>NaN</td>\n",
              "      <td>NaN</td>\n",
              "      <td>NaN</td>\n",
              "    </tr>\n",
              "    <tr>\n",
              "      <th>12</th>\n",
              "      <td>13</td>\n",
              "      <td>NaN</td>\n",
              "      <td>NaN</td>\n",
              "      <td>79.1</td>\n",
              "      <td>NaN</td>\n",
              "      <td>NaN</td>\n",
              "      <td>NaN</td>\n",
              "      <td>NaN</td>\n",
              "      <td>NaN</td>\n",
              "    </tr>\n",
              "    <tr>\n",
              "      <th>13</th>\n",
              "      <td>14</td>\n",
              "      <td>NaN</td>\n",
              "      <td>NaN</td>\n",
              "      <td>79.5</td>\n",
              "      <td>NaN</td>\n",
              "      <td>NaN</td>\n",
              "      <td>NaN</td>\n",
              "      <td>NaN</td>\n",
              "      <td>NaN</td>\n",
              "    </tr>\n",
              "    <tr>\n",
              "      <th>14</th>\n",
              "      <td>15</td>\n",
              "      <td>NaN</td>\n",
              "      <td>NaN</td>\n",
              "      <td>80.7</td>\n",
              "      <td>NaN</td>\n",
              "      <td>NaN</td>\n",
              "      <td>NaN</td>\n",
              "      <td>NaN</td>\n",
              "      <td>NaN</td>\n",
              "    </tr>\n",
              "    <tr>\n",
              "      <th>15</th>\n",
              "      <td>16</td>\n",
              "      <td>NaN</td>\n",
              "      <td>NaN</td>\n",
              "      <td>84.0</td>\n",
              "      <td>NaN</td>\n",
              "      <td>NaN</td>\n",
              "      <td>NaN</td>\n",
              "      <td>NaN</td>\n",
              "      <td>NaN</td>\n",
              "    </tr>\n",
              "    <tr>\n",
              "      <th>16</th>\n",
              "      <td>17</td>\n",
              "      <td>NaN</td>\n",
              "      <td>NaN</td>\n",
              "      <td>86.0</td>\n",
              "      <td>NaN</td>\n",
              "      <td>NaN</td>\n",
              "      <td>NaN</td>\n",
              "      <td>NaN</td>\n",
              "      <td>NaN</td>\n",
              "    </tr>\n",
              "    <tr>\n",
              "      <th>17</th>\n",
              "      <td>18</td>\n",
              "      <td>NaN</td>\n",
              "      <td>NaN</td>\n",
              "      <td>90.7</td>\n",
              "      <td>NaN</td>\n",
              "      <td>NaN</td>\n",
              "      <td>NaN</td>\n",
              "      <td>NaN</td>\n",
              "      <td>NaN</td>\n",
              "    </tr>\n",
              "    <tr>\n",
              "      <th>18</th>\n",
              "      <td>19</td>\n",
              "      <td>NaN</td>\n",
              "      <td>NaN</td>\n",
              "      <td>94.2</td>\n",
              "      <td>NaN</td>\n",
              "      <td>NaN</td>\n",
              "      <td>NaN</td>\n",
              "      <td>NaN</td>\n",
              "      <td>NaN</td>\n",
              "    </tr>\n",
              "    <tr>\n",
              "      <th>19</th>\n",
              "      <td>20</td>\n",
              "      <td>NaN</td>\n",
              "      <td>NaN</td>\n",
              "      <td>99.3</td>\n",
              "      <td>NaN</td>\n",
              "      <td>NaN</td>\n",
              "      <td>NaN</td>\n",
              "      <td>NaN</td>\n",
              "      <td>NaN</td>\n",
              "    </tr>\n",
              "    <tr>\n",
              "      <th>20</th>\n",
              "      <td>21</td>\n",
              "      <td>NaN</td>\n",
              "      <td>NaN</td>\n",
              "      <td>106.7</td>\n",
              "      <td>NaN</td>\n",
              "      <td>NaN</td>\n",
              "      <td>NaN</td>\n",
              "      <td>NaN</td>\n",
              "      <td>NaN</td>\n",
              "    </tr>\n",
              "  </tbody>\n",
              "</table>\n",
              "</div>"
            ],
            "text/plain": [
              "    Ident  Idade  Altura   Peso  ...  Sistolica  Diastolica  Colesterol   IMC\n",
              "0       1   20.0    1.73   60.8  ...      110.0        81.0       265.0  24.3\n",
              "1       2    NaN     NaN   61.8  ...        NaN         NaN         NaN  32.8\n",
              "2       3    NaN     NaN   62.6  ...        NaN         NaN         NaN   NaN\n",
              "3       4    NaN     NaN   64.9  ...        NaN         NaN         NaN   NaN\n",
              "4       5    NaN     NaN   68.1  ...        NaN         NaN         NaN   NaN\n",
              "5       6    NaN     NaN   68.7  ...        NaN         NaN         NaN   NaN\n",
              "6       7    NaN     NaN   70.3  ...        NaN         NaN         NaN   NaN\n",
              "7       8    NaN     NaN   73.9  ...        NaN         NaN         NaN   NaN\n",
              "8       9    NaN     NaN   74.7  ...        NaN         NaN         NaN   NaN\n",
              "9      10    NaN     NaN   75.1  ...        NaN         NaN         NaN   NaN\n",
              "10     11    NaN     NaN   76.1  ...        NaN         NaN         NaN   NaN\n",
              "11     12    NaN     NaN   78.8  ...        NaN         NaN         NaN   NaN\n",
              "12     13    NaN     NaN   79.1  ...        NaN         NaN         NaN   NaN\n",
              "13     14    NaN     NaN   79.5  ...        NaN         NaN         NaN   NaN\n",
              "14     15    NaN     NaN   80.7  ...        NaN         NaN         NaN   NaN\n",
              "15     16    NaN     NaN   84.0  ...        NaN         NaN         NaN   NaN\n",
              "16     17    NaN     NaN   86.0  ...        NaN         NaN         NaN   NaN\n",
              "17     18    NaN     NaN   90.7  ...        NaN         NaN         NaN   NaN\n",
              "18     19    NaN     NaN   94.2  ...        NaN         NaN         NaN   NaN\n",
              "19     20    NaN     NaN   99.3  ...        NaN         NaN         NaN   NaN\n",
              "20     21    NaN     NaN  106.7  ...        NaN         NaN         NaN   NaN\n",
              "\n",
              "[21 rows x 9 columns]"
            ]
          },
          "metadata": {},
          "execution_count": 14
        }
      ]
    },
    {
      "cell_type": "markdown",
      "metadata": {
        "id": "riaPePnaFnnf"
      },
      "source": [
        "A instrução acima, mostrou a moda de todos os atributos. A moda de cada atributo, quando é única, aparece na `linha [0]` (linha zero). Note que para alguns atributos, como `Peso` por exemplo, aparece valor de moda em mais de uma linha. Isso ocorre porque todos os valores de Peso são diferentes. **Neste caso dizemos que a moda não existe.**\n",
        "\n",
        "A instrução a seguir mostra a frequência do atributo `Peso`. Note que a frequência é igual a 1 para todos os pesos.\n"
      ]
    },
    {
      "cell_type": "code",
      "metadata": {
        "id": "Abw7wplOHXiK",
        "colab": {
          "base_uri": "https://localhost:8080/"
        },
        "outputId": "5400069a-c87c-407a-9c5b-b683bb2fcb74"
      },
      "source": [
        "# Agrupando por Peso e contando pelo atributo Peso\n",
        "pacientes.groupby(\"Peso\")[\"Peso\"].count()"
      ],
      "execution_count": null,
      "outputs": [
        {
          "output_type": "execute_result",
          "data": {
            "text/plain": [
              "Peso\n",
              "60.8     1\n",
              "61.8     1\n",
              "62.6     1\n",
              "64.9     1\n",
              "68.1     1\n",
              "68.7     1\n",
              "70.3     1\n",
              "73.9     1\n",
              "74.7     1\n",
              "75.1     1\n",
              "76.1     1\n",
              "78.8     1\n",
              "79.1     1\n",
              "79.5     1\n",
              "80.7     1\n",
              "84.0     1\n",
              "86.0     1\n",
              "90.7     1\n",
              "94.2     1\n",
              "99.3     1\n",
              "106.7    1\n",
              "Name: Peso, dtype: int64"
            ]
          },
          "metadata": {},
          "execution_count": 15
        }
      ]
    },
    {
      "cell_type": "markdown",
      "metadata": {
        "id": "IHRsSDKSGxj1"
      },
      "source": [
        "Uma forma de listar apenas a **\"primeira moda\"** é conforme abaixo, usando a notação `loc[0]`."
      ]
    },
    {
      "cell_type": "code",
      "metadata": {
        "id": "3432ZFgzcug6",
        "colab": {
          "base_uri": "https://localhost:8080/"
        },
        "outputId": "928c2777-c39c-4c7f-d3af-b71284b1ffd9"
      },
      "source": [
        "# loc[0] - Exibe a linha 0 da moda\n",
        "pacientes.mode().loc[0]"
      ],
      "execution_count": null,
      "outputs": [
        {
          "output_type": "execute_result",
          "data": {
            "text/plain": [
              "Ident           1.00\n",
              "Idade          20.00\n",
              "Altura          1.73\n",
              "Peso           60.80\n",
              "Pulsacao       64.00\n",
              "Sistolica     110.00\n",
              "Diastolica     81.00\n",
              "Colesterol    265.00\n",
              "IMC            24.30\n",
              "Name: 0, dtype: float64"
            ]
          },
          "metadata": {},
          "execution_count": 16
        }
      ]
    },
    {
      "cell_type": "markdown",
      "metadata": {
        "id": "K_-kDnsGceqc"
      },
      "source": [
        "#### Moda especificando o atributo\n",
        "\n",
        "Para listar a moda de um único atributo utiliza-se o nome do atributo, conforme abaixo, seguido de `mode()`. Por exemplo, a moda de `Sistolica`."
      ]
    },
    {
      "cell_type": "code",
      "metadata": {
        "id": "t8wGf2byclTl",
        "colab": {
          "base_uri": "https://localhost:8080/"
        },
        "outputId": "53189591-730a-4e04-f1e6-79c99a3c509c"
      },
      "source": [
        "pacientes.Sistolica.mode()"
      ],
      "execution_count": null,
      "outputs": [
        {
          "output_type": "execute_result",
          "data": {
            "text/plain": [
              "0    110\n",
              "dtype: int64"
            ]
          },
          "metadata": {},
          "execution_count": 17
        }
      ]
    },
    {
      "cell_type": "markdown",
      "metadata": {
        "id": "yeSvu68wLRiu"
      },
      "source": [
        "Caso haja mais de uma moda, todos os valores serão exibidos. Veja o caso de Pulsacao."
      ]
    },
    {
      "cell_type": "code",
      "metadata": {
        "id": "ssHXnKA7LXvT",
        "colab": {
          "base_uri": "https://localhost:8080/"
        },
        "outputId": "fbe670e0-7064-4b10-9c69-777673de77a7"
      },
      "source": [
        "pacientes.Pulsacao.mode()"
      ],
      "execution_count": null,
      "outputs": [
        {
          "output_type": "execute_result",
          "data": {
            "text/plain": [
              "0    64\n",
              "1    72\n",
              "dtype: int64"
            ]
          },
          "metadata": {},
          "execution_count": 18
        }
      ]
    },
    {
      "cell_type": "markdown",
      "metadata": {
        "id": "XMlDRgpmLhpH"
      },
      "source": [
        "Para conferir, vamos listar a frequência de `Pulsacao`."
      ]
    },
    {
      "cell_type": "code",
      "metadata": {
        "id": "NXy_oZrdLnZ3",
        "colab": {
          "base_uri": "https://localhost:8080/"
        },
        "outputId": "5fb044d3-29da-457d-adb9-d0e982eb793d"
      },
      "source": [
        "# Agrupando por Pulsacao e contando pelo atributo Pulsacao\n",
        "pacientes.groupby(\"Pulsacao\")[\"Pulsacao\"].count()"
      ],
      "execution_count": null,
      "outputs": [
        {
          "output_type": "execute_result",
          "data": {
            "text/plain": [
              "Pulsacao\n",
              "56    1\n",
              "60    3\n",
              "64    4\n",
              "68    1\n",
              "72    4\n",
              "76    2\n",
              "84    2\n",
              "88    3\n",
              "96    1\n",
              "Name: Pulsacao, dtype: int64"
            ]
          },
          "metadata": {},
          "execution_count": 19
        }
      ]
    },
    {
      "cell_type": "markdown",
      "metadata": {
        "id": "HlgdKJUILwn4"
      },
      "source": [
        "Note que Pulsacao = 64 e Pulsacao = 72 possuem as maiores frequências. Neste caso, dizemos que a frequência é bimodal (dois valores), ou seja, a moda de Pulsacao é igual a 64 e 72."
      ]
    },
    {
      "cell_type": "markdown",
      "metadata": {
        "id": "cWrHkJw5lW2w"
      },
      "source": [
        "## Exibindo Média, Mediana e Moda com print\n",
        "\n",
        "Veja a seguir que podemos usar o print para exibir uma mensagem com um RÓTULO, indicando o que significa o valor exibido."
      ]
    },
    {
      "cell_type": "code",
      "metadata": {
        "id": "vUd9JP5mlq0a",
        "colab": {
          "base_uri": "https://localhost:8080/"
        },
        "outputId": "c2300fa7-28f4-4142-b8c9-fe98588d0bb7"
      },
      "source": [
        "print(\"Média :\", pacientes.Sistolica.mean())\n",
        "print(\"Mediana: \", pacientes.Sistolica.median())\n",
        "print(\"Moda: \", pacientes.Sistolica.mode())"
      ],
      "execution_count": null,
      "outputs": [
        {
          "output_type": "stream",
          "name": "stdout",
          "text": [
            "Média : 119.95238095238095\n",
            "Mediana:  119.0\n",
            "Moda:  0    110\n",
            "dtype: int64\n"
          ]
        }
      ]
    },
    {
      "cell_type": "markdown",
      "metadata": {
        "id": "_ZzytDiyMc8y"
      },
      "source": [
        "## Exercícios"
      ]
    },
    {
      "cell_type": "markdown",
      "metadata": {
        "id": "e2KbZ1J4M2x4"
      },
      "source": [
        "### Exercícios 01 - Média"
      ]
    },
    {
      "cell_type": "code",
      "metadata": {
        "id": "s73_g68JPOq2"
      },
      "source": [
        "# Exibir a média do atributo Idade\n",
        "# Digite sua resposta aqui"
      ],
      "execution_count": null,
      "outputs": []
    },
    {
      "cell_type": "markdown",
      "metadata": {
        "id": "4XZyXwQ2PGXV"
      },
      "source": [
        "### Exercícios 02 - Mediana"
      ]
    },
    {
      "cell_type": "code",
      "metadata": {
        "id": "z0yvhoyCPITw"
      },
      "source": [
        "# Exibir a mediana do atributo Idade\n",
        "# Digite sua resposta aqui"
      ],
      "execution_count": null,
      "outputs": []
    },
    {
      "cell_type": "markdown",
      "metadata": {
        "id": "8_6h4MHUPI94"
      },
      "source": [
        "### Exercícios 03 - Mediana"
      ]
    },
    {
      "cell_type": "code",
      "metadata": {
        "id": "thJ9uZ5HPrVg"
      },
      "source": [
        "# Exibir a moda do atributo Idade\n",
        "# Digite sua resposta aqui"
      ],
      "execution_count": null,
      "outputs": []
    },
    {
      "cell_type": "markdown",
      "metadata": {
        "id": "XP1dSI0ZmXq7"
      },
      "source": [
        "### Exercício 04 - Média, Mediana e Moda "
      ]
    },
    {
      "cell_type": "code",
      "metadata": {
        "id": "Vn2rpDTBl6q2"
      },
      "source": [
        "# Exibir as três medidas de tendência central de Idade (média, mediana e moda) com os rótulos que idenfiquem cada medida.\n",
        "# Use um print para cada medida\n",
        "# Digite sua resposta aqui"
      ],
      "execution_count": null,
      "outputs": []
    },
    {
      "cell_type": "markdown",
      "metadata": {
        "id": "29zWYB_0Wyr-"
      },
      "source": [
        "## Extra"
      ]
    },
    {
      "cell_type": "markdown",
      "metadata": {
        "id": "dVflM1y8W3b6"
      },
      "source": [
        "### Exibindo a maior moda (quando há mais de uma)"
      ]
    },
    {
      "cell_type": "markdown",
      "metadata": {
        "id": "akC3ON1BXqYH"
      },
      "source": [
        "Note que existem dois valores de moda para `Pulsacao`"
      ]
    },
    {
      "cell_type": "code",
      "metadata": {
        "id": "iW0iwGlLXIKT",
        "colab": {
          "base_uri": "https://localhost:8080/"
        },
        "outputId": "e1d2640d-0ebe-4d24-e50a-ddd86ed70bae"
      },
      "source": [
        "moda = pacientes.Pulsacao.mode()\n",
        "moda"
      ],
      "execution_count": null,
      "outputs": [
        {
          "output_type": "execute_result",
          "data": {
            "text/plain": [
              "0    64\n",
              "1    72\n",
              "dtype: int64"
            ]
          },
          "metadata": {},
          "execution_count": 25
        }
      ]
    },
    {
      "cell_type": "code",
      "metadata": {
        "id": "OetFtMY62jCC",
        "colab": {
          "base_uri": "https://localhost:8080/"
        },
        "outputId": "54984242-b3e2-4f36-e780-33e2c73d0c48"
      },
      "source": [
        "pacientes.Pulsacao.mode().max()"
      ],
      "execution_count": null,
      "outputs": [
        {
          "output_type": "execute_result",
          "data": {
            "text/plain": [
              "72"
            ]
          },
          "metadata": {},
          "execution_count": 26
        }
      ]
    },
    {
      "cell_type": "markdown",
      "metadata": {
        "id": "I-K5NY1OXx2b"
      },
      "source": [
        "A função `max()` retorna o maior valor de uma variável, conforme instrução a seguir."
      ]
    },
    {
      "cell_type": "code",
      "metadata": {
        "id": "dbpAaAMsXV7h",
        "colab": {
          "base_uri": "https://localhost:8080/"
        },
        "outputId": "3f4c1acb-e4b6-4bfa-a625-409bce4c7447"
      },
      "source": [
        "moda.max()"
      ],
      "execution_count": null,
      "outputs": [
        {
          "output_type": "execute_result",
          "data": {
            "text/plain": [
              "72"
            ]
          },
          "metadata": {},
          "execution_count": 27
        }
      ]
    },
    {
      "cell_type": "markdown",
      "metadata": {
        "id": "q8Nqe2n-d3hb"
      },
      "source": [
        "### Entrada de Dados [1]"
      ]
    },
    {
      "cell_type": "markdown",
      "metadata": {
        "id": "gKMIx2lnd9NG"
      },
      "source": [
        "Podemos perguntar ao usuário qual o nome da coluna devemos usar para, por exemplo, calcular a média (ou qualquer outro valor). \n",
        "\n",
        "Isto se chama \"solicitar uma entrada de dados\". Chamamos de **`Entrada de Dados`** pois \"entra\" (via teclado) uma informação na \"memória do computador\". Vamos explorar isso melhor mais adiante. "
      ]
    },
    {
      "cell_type": "markdown",
      "metadata": {
        "id": "TCkjpHs9efHi"
      },
      "source": [
        "Em python, a função `input()` é usada para a realizar a entrada de dados. Vide exemplo a seguir."
      ]
    },
    {
      "cell_type": "code",
      "metadata": {
        "id": "SgDJICZherhL",
        "colab": {
          "base_uri": "https://localhost:8080/"
        },
        "outputId": "da6120f8-4887-44c8-bed2-a777870ce943"
      },
      "source": [
        "coluna = input()"
      ],
      "execution_count": null,
      "outputs": [
        {
          "name": "stdout",
          "output_type": "stream",
          "text": [
            "Sistolica\n"
          ]
        }
      ]
    },
    {
      "cell_type": "markdown",
      "metadata": {
        "id": "vdVAWW4pe-d7"
      },
      "source": [
        "Note que a instrução a seguir calcula a média dos valores usando a **\"`coluna`\"** (atributo) informada pelo usuário. \n",
        "\n"
      ]
    },
    {
      "cell_type": "code",
      "metadata": {
        "id": "2hgLvDqZoSxU",
        "colab": {
          "base_uri": "https://localhost:8080/"
        },
        "outputId": "00272732-316c-4aab-f5e8-f0fef95abea0"
      },
      "source": [
        "media = pacientes[[coluna]].mean()\n",
        "print(\"Média da \", coluna, \" = \", media)"
      ],
      "execution_count": null,
      "outputs": [
        {
          "output_type": "stream",
          "name": "stdout",
          "text": [
            "Média da  Sistolica  =  Sistolica    119.952381\n",
            "dtype: float64\n"
          ]
        }
      ]
    },
    {
      "cell_type": "markdown",
      "metadata": {
        "id": "eDCj_MZ102w9"
      },
      "source": [
        "[ATENÇÃO]: No \"input\" é possível enviar uma \"mensagem\" para informar o que deve ser digitado."
      ]
    },
    {
      "cell_type": "code",
      "metadata": {
        "id": "EhOPO9uY0oaj",
        "colab": {
          "base_uri": "https://localhost:8080/"
        },
        "outputId": "df56e55d-e9eb-4267-cce0-4deb85db6503"
      },
      "source": [
        "coluna = input(\"Digite o título da coluna para exibir a média:\")\n",
        "media = pacientes[[coluna]].mean()\n",
        "print(\"Média da \", coluna, \" = \", media)\n"
      ],
      "execution_count": null,
      "outputs": [
        {
          "output_type": "stream",
          "name": "stdout",
          "text": [
            "Digite o título da coluna para exibir a média:Diastolica\n",
            "Média da  Diastolica  =  Diastolica    73.428571\n",
            "dtype: float64\n"
          ]
        }
      ]
    },
    {
      "cell_type": "markdown",
      "metadata": {
        "id": "zIXX0xtFBJcd"
      },
      "source": [
        "Execute novamente a célula acima, digitando outro valor para \"coluna\", e veja o resultado. As instruções funcionam para qualquer valor de \"coluna\" informado (desde que o nome a coluna conste na tabela)."
      ]
    }
  ]
}