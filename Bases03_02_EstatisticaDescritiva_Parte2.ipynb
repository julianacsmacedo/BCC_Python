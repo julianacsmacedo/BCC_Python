{
  "nbformat": 4,
  "nbformat_minor": 0,
  "metadata": {
    "colab": {
      "name": "Bases03_02_EstatisticaDescritiva_Parte2.ipynb",
      "provenance": [],
      "collapsed_sections": [],
      "include_colab_link": true
    },
    "kernelspec": {
      "name": "python3",
      "display_name": "Python 3"
    }
  },
  "cells": [
    {
      "cell_type": "markdown",
      "metadata": {
        "id": "view-in-github",
        "colab_type": "text"
      },
      "source": [
        "<a href=\"https://colab.research.google.com/github/julianacsmacedo/BCC_Python/blob/main/Bases03_02_EstatisticaDescritiva_Parte2.ipynb\" target=\"_parent\"><img src=\"https://colab.research.google.com/assets/colab-badge.svg\" alt=\"Open In Colab\"/></a>"
      ]
    },
    {
      "cell_type": "markdown",
      "metadata": {
        "id": "_KJSn9as96pO"
      },
      "source": [
        "# Estatística Descritiva (Parte 2)\n",
        "\n"
      ]
    },
    {
      "cell_type": "markdown",
      "metadata": {
        "id": "gBylBVCP1RrW"
      },
      "source": [
        "\n",
        "```\n",
        "(*) Inspirado em material preparado pelo Prof. Ronaldo Prati \n",
        "```\n"
      ]
    },
    {
      "cell_type": "markdown",
      "metadata": {
        "id": "rnhrbmTsdW8a"
      },
      "source": [
        "**Relembrando**: A estatística descritiva organiza e descreve os dados de três maneiras: por meio de tabelas, de gráficos e de medidas descritivas. \n",
        "\n",
        "Como **medidas descritivas** podemos citar as medidas de tendência central, as medidas de dispersão e as medidas de distribuição.\n",
        "\n",
        "Na primeira parte, vimos as medidas de tendência central (média, mediana e moda). Agora vamos estudar as **medidas de dispersão**."
      ]
    },
    {
      "cell_type": "markdown",
      "metadata": {
        "id": "PN2Pr4wt3ZCy"
      },
      "source": [
        "## Base de dados de Pacientes"
      ]
    },
    {
      "cell_type": "markdown",
      "metadata": {
        "id": "-kRhoDH99IKP"
      },
      "source": [
        "Antes de conhecer as funções da linguagem python para obtenção das **medidas de dispersão** precisamos carregar e explorar a base de dados que vamos utilizar para os cálculos."
      ]
    },
    {
      "cell_type": "markdown",
      "metadata": {
        "id": "TB0Ld77v9m_R"
      },
      "source": [
        "As instruções a seguir carregam uma base de dados de PACIENTES contendo informações como Identificação, Altura, Peso, Pulsação (batimentos por minuto), Pressão sistólica e diastólica, taxa de colesterol e Índice de Massa Corporal (IMC)."
      ]
    },
    {
      "cell_type": "code",
      "metadata": {
        "id": "LGv_wDpYDizP",
        "colab": {
          "base_uri": "https://localhost:8080/",
          "height": 206
        },
        "outputId": "e954633d-3f12-4baa-867d-aca9b11ded66"
      },
      "source": [
        "import pandas as pd \n",
        "#https://drive.google.com/file/d/1foZsAIE3sSoFf53ENs9QCQ29ZqcMOxac/view?usp=sharing\n",
        "codigo = \"1foZsAIE3sSoFf53ENs9QCQ29ZqcMOxac\"\n",
        "file = \"https://drive.google.com/u/3/uc?id=\" + codigo + \"&export=download\"\n",
        "# Base de Dados de Pacientes\n",
        "# Note a especificação de SEPARADOR (ponto e vírgula)\n",
        "# Note a especificação de VÍRGULA DECIMAL\n",
        "pacientes = pd.read_csv(file, sep = \";\",decimal=\",\")\n",
        "#df = pd.read_csv(file)\n",
        "pacientes.head()"
      ],
      "execution_count": null,
      "outputs": [
        {
          "output_type": "execute_result",
          "data": {
            "text/plain": [
              "   Ident  Idade  Altura  Peso  Pulsacao  Sistolica  Diastolica  Colesterol  \\\n",
              "0      1     58    1.80  76.1        68        125          78         522   \n",
              "1      2     22    1.68  64.9        64        107          54         127   \n",
              "2      3     32    1.82  80.7        88        126          81         740   \n",
              "3      4     31    1.74  79.1        72        110          68          49   \n",
              "4      5     28    1.72  68.7        64        110          66         230   \n",
              "\n",
              "    IMC  \n",
              "0  23.5  \n",
              "1  23.0  \n",
              "2  24.3  \n",
              "3  26.0  \n",
              "4  23.3  "
            ],
            "text/html": [
              "\n",
              "  <div id=\"df-a4f88b59-cf49-4c2b-a25c-b4e0587c8af9\">\n",
              "    <div class=\"colab-df-container\">\n",
              "      <div>\n",
              "<style scoped>\n",
              "    .dataframe tbody tr th:only-of-type {\n",
              "        vertical-align: middle;\n",
              "    }\n",
              "\n",
              "    .dataframe tbody tr th {\n",
              "        vertical-align: top;\n",
              "    }\n",
              "\n",
              "    .dataframe thead th {\n",
              "        text-align: right;\n",
              "    }\n",
              "</style>\n",
              "<table border=\"1\" class=\"dataframe\">\n",
              "  <thead>\n",
              "    <tr style=\"text-align: right;\">\n",
              "      <th></th>\n",
              "      <th>Ident</th>\n",
              "      <th>Idade</th>\n",
              "      <th>Altura</th>\n",
              "      <th>Peso</th>\n",
              "      <th>Pulsacao</th>\n",
              "      <th>Sistolica</th>\n",
              "      <th>Diastolica</th>\n",
              "      <th>Colesterol</th>\n",
              "      <th>IMC</th>\n",
              "    </tr>\n",
              "  </thead>\n",
              "  <tbody>\n",
              "    <tr>\n",
              "      <th>0</th>\n",
              "      <td>1</td>\n",
              "      <td>58</td>\n",
              "      <td>1.80</td>\n",
              "      <td>76.1</td>\n",
              "      <td>68</td>\n",
              "      <td>125</td>\n",
              "      <td>78</td>\n",
              "      <td>522</td>\n",
              "      <td>23.5</td>\n",
              "    </tr>\n",
              "    <tr>\n",
              "      <th>1</th>\n",
              "      <td>2</td>\n",
              "      <td>22</td>\n",
              "      <td>1.68</td>\n",
              "      <td>64.9</td>\n",
              "      <td>64</td>\n",
              "      <td>107</td>\n",
              "      <td>54</td>\n",
              "      <td>127</td>\n",
              "      <td>23.0</td>\n",
              "    </tr>\n",
              "    <tr>\n",
              "      <th>2</th>\n",
              "      <td>3</td>\n",
              "      <td>32</td>\n",
              "      <td>1.82</td>\n",
              "      <td>80.7</td>\n",
              "      <td>88</td>\n",
              "      <td>126</td>\n",
              "      <td>81</td>\n",
              "      <td>740</td>\n",
              "      <td>24.3</td>\n",
              "    </tr>\n",
              "    <tr>\n",
              "      <th>3</th>\n",
              "      <td>4</td>\n",
              "      <td>31</td>\n",
              "      <td>1.74</td>\n",
              "      <td>79.1</td>\n",
              "      <td>72</td>\n",
              "      <td>110</td>\n",
              "      <td>68</td>\n",
              "      <td>49</td>\n",
              "      <td>26.0</td>\n",
              "    </tr>\n",
              "    <tr>\n",
              "      <th>4</th>\n",
              "      <td>5</td>\n",
              "      <td>28</td>\n",
              "      <td>1.72</td>\n",
              "      <td>68.7</td>\n",
              "      <td>64</td>\n",
              "      <td>110</td>\n",
              "      <td>66</td>\n",
              "      <td>230</td>\n",
              "      <td>23.3</td>\n",
              "    </tr>\n",
              "  </tbody>\n",
              "</table>\n",
              "</div>\n",
              "      <button class=\"colab-df-convert\" onclick=\"convertToInteractive('df-a4f88b59-cf49-4c2b-a25c-b4e0587c8af9')\"\n",
              "              title=\"Convert this dataframe to an interactive table.\"\n",
              "              style=\"display:none;\">\n",
              "        \n",
              "  <svg xmlns=\"http://www.w3.org/2000/svg\" height=\"24px\"viewBox=\"0 0 24 24\"\n",
              "       width=\"24px\">\n",
              "    <path d=\"M0 0h24v24H0V0z\" fill=\"none\"/>\n",
              "    <path d=\"M18.56 5.44l.94 2.06.94-2.06 2.06-.94-2.06-.94-.94-2.06-.94 2.06-2.06.94zm-11 1L8.5 8.5l.94-2.06 2.06-.94-2.06-.94L8.5 2.5l-.94 2.06-2.06.94zm10 10l.94 2.06.94-2.06 2.06-.94-2.06-.94-.94-2.06-.94 2.06-2.06.94z\"/><path d=\"M17.41 7.96l-1.37-1.37c-.4-.4-.92-.59-1.43-.59-.52 0-1.04.2-1.43.59L10.3 9.45l-7.72 7.72c-.78.78-.78 2.05 0 2.83L4 21.41c.39.39.9.59 1.41.59.51 0 1.02-.2 1.41-.59l7.78-7.78 2.81-2.81c.8-.78.8-2.07 0-2.86zM5.41 20L4 18.59l7.72-7.72 1.47 1.35L5.41 20z\"/>\n",
              "  </svg>\n",
              "      </button>\n",
              "      \n",
              "  <style>\n",
              "    .colab-df-container {\n",
              "      display:flex;\n",
              "      flex-wrap:wrap;\n",
              "      gap: 12px;\n",
              "    }\n",
              "\n",
              "    .colab-df-convert {\n",
              "      background-color: #E8F0FE;\n",
              "      border: none;\n",
              "      border-radius: 50%;\n",
              "      cursor: pointer;\n",
              "      display: none;\n",
              "      fill: #1967D2;\n",
              "      height: 32px;\n",
              "      padding: 0 0 0 0;\n",
              "      width: 32px;\n",
              "    }\n",
              "\n",
              "    .colab-df-convert:hover {\n",
              "      background-color: #E2EBFA;\n",
              "      box-shadow: 0px 1px 2px rgba(60, 64, 67, 0.3), 0px 1px 3px 1px rgba(60, 64, 67, 0.15);\n",
              "      fill: #174EA6;\n",
              "    }\n",
              "\n",
              "    [theme=dark] .colab-df-convert {\n",
              "      background-color: #3B4455;\n",
              "      fill: #D2E3FC;\n",
              "    }\n",
              "\n",
              "    [theme=dark] .colab-df-convert:hover {\n",
              "      background-color: #434B5C;\n",
              "      box-shadow: 0px 1px 3px 1px rgba(0, 0, 0, 0.15);\n",
              "      filter: drop-shadow(0px 1px 2px rgba(0, 0, 0, 0.3));\n",
              "      fill: #FFFFFF;\n",
              "    }\n",
              "  </style>\n",
              "\n",
              "      <script>\n",
              "        const buttonEl =\n",
              "          document.querySelector('#df-a4f88b59-cf49-4c2b-a25c-b4e0587c8af9 button.colab-df-convert');\n",
              "        buttonEl.style.display =\n",
              "          google.colab.kernel.accessAllowed ? 'block' : 'none';\n",
              "\n",
              "        async function convertToInteractive(key) {\n",
              "          const element = document.querySelector('#df-a4f88b59-cf49-4c2b-a25c-b4e0587c8af9');\n",
              "          const dataTable =\n",
              "            await google.colab.kernel.invokeFunction('convertToInteractive',\n",
              "                                                     [key], {});\n",
              "          if (!dataTable) return;\n",
              "\n",
              "          const docLinkHtml = 'Like what you see? Visit the ' +\n",
              "            '<a target=\"_blank\" href=https://colab.research.google.com/notebooks/data_table.ipynb>data table notebook</a>'\n",
              "            + ' to learn more about interactive tables.';\n",
              "          element.innerHTML = '';\n",
              "          dataTable['output_type'] = 'display_data';\n",
              "          await google.colab.output.renderOutput(dataTable, element);\n",
              "          const docLink = document.createElement('div');\n",
              "          docLink.innerHTML = docLinkHtml;\n",
              "          element.appendChild(docLink);\n",
              "        }\n",
              "      </script>\n",
              "    </div>\n",
              "  </div>\n",
              "  "
            ]
          },
          "metadata": {},
          "execution_count": 1
        }
      ]
    },
    {
      "cell_type": "markdown",
      "metadata": {
        "id": "aLQLewmzypPy"
      },
      "source": [
        "## Medidas de dispersão\n",
        "\n",
        "A **medidas de dispersão** nos ajudam a entender como os dados variam em torno da média, ou seja, também ajudam a descrever a tendência nos dados.\n",
        "\n",
        "Três medidas de dispersão normalmente usadas são:\n",
        "\n",
        "- a **amplitude**, que consiste na diferença entre o maior e o menor valor da série.\n",
        "- a **variância**, que consiste na média do quadrado diferença entre cada valor do atributo e a sua média. Isto parece meio \"confuso\" mas vamos ver uma explicação mais detalhada adiante.\n",
        "- o **desvio padrão**, que é a raiz quadrada da variância. Isto também não é muito esclarecedor mas vamos ver uma explicação mais detalhada adiante.\n"
      ]
    },
    {
      "cell_type": "markdown",
      "metadata": {
        "id": "8JFG4qifeeMg"
      },
      "source": [
        "## Amplitude"
      ]
    },
    {
      "cell_type": "markdown",
      "metadata": {
        "id": "L2eVBr2jepQw"
      },
      "source": [
        "No pandas `não` há um método para calcular a `amplitude`. No entanto, podemos calcular a `amplitude` obtendo a diferença entre o valor `máximo` e o valor `mínimo`:"
      ]
    },
    {
      "cell_type": "code",
      "metadata": {
        "id": "aAFbiGRv1QA_",
        "colab": {
          "base_uri": "https://localhost:8080/"
        },
        "outputId": "2936655f-f017-4b37-bc50-5da10299414e"
      },
      "source": [
        "# amplitude\n",
        "pacientes.max() - pacientes.min()"
      ],
      "execution_count": null,
      "outputs": [
        {
          "output_type": "execute_result",
          "data": {
            "text/plain": [
              "Ident          20.00\n",
              "Idade          56.00\n",
              "Altura          0.38\n",
              "Peso           45.90\n",
              "Pulsacao       40.00\n",
              "Sistolica      46.00\n",
              "Diastolica     43.00\n",
              "Colesterol    923.00\n",
              "IMC            13.10\n",
              "dtype: float64"
            ]
          },
          "metadata": {},
          "execution_count": 2
        }
      ]
    },
    {
      "cell_type": "markdown",
      "metadata": {
        "id": "b1oftp8yfjMN"
      },
      "source": [
        "Para ter uma idéia do que significa essa amplitude, podemos exibir o valor da média dos atributos.\n"
      ]
    },
    {
      "cell_type": "code",
      "metadata": {
        "id": "LaPj3CwKfqSA",
        "colab": {
          "base_uri": "https://localhost:8080/"
        },
        "outputId": "3b49cae7-025b-47ae-f9c5-fc6cd9b2a37b"
      },
      "source": [
        "# Média\n",
        "print(pacientes.mean())"
      ],
      "execution_count": null,
      "outputs": [
        {
          "output_type": "stream",
          "name": "stdout",
          "text": [
            "Ident          11.000000\n",
            "Idade          36.476190\n",
            "Altura          1.731905\n",
            "Peso           77.904762\n",
            "Pulsacao       72.761905\n",
            "Sistolica     119.952381\n",
            "Diastolica     73.428571\n",
            "Colesterol    338.285714\n",
            "IMC            25.976190\n",
            "dtype: float64\n"
          ]
        }
      ]
    },
    {
      "cell_type": "markdown",
      "metadata": {
        "id": "a0UInG6_69F4"
      },
      "source": [
        "Tomando como exemplo o atributo `Sistólica`, a amplitude, ou seja, a diferença entre a maior e a menor pressão Sistólica, nesse conjunto de dados, é igual a 40.0\n",
        "\n",
        "Em relação à `Idade`, a amplitude entre a maior e menor idade, no conjunto de dados, é igual a 56.0.\n",
        "\n",
        "Precisamos analisar outras medidas de dispersão como variância e desvio padrão.\n"
      ]
    },
    {
      "cell_type": "markdown",
      "metadata": {
        "id": "8yxHqvnEg2lI"
      },
      "source": [
        "### Variância\n",
        "\n",
        "Para calcular a variância, podemos usar a função `var` do pandas:"
      ]
    },
    {
      "cell_type": "code",
      "metadata": {
        "id": "RzekCYf3f6gz",
        "colab": {
          "base_uri": "https://localhost:8080/"
        },
        "outputId": "97ecfa47-7d5d-40f4-8688-b541b40ffec3"
      },
      "source": [
        "pacientes.var()"
      ],
      "execution_count": null,
      "outputs": [
        {
          "output_type": "execute_result",
          "data": {
            "text/plain": [
              "Ident            38.500000\n",
              "Idade           260.561905\n",
              "Altura            0.007146\n",
              "Peso            153.143476\n",
              "Pulsacao        130.590476\n",
              "Sistolica       137.647619\n",
              "Diastolica      111.257143\n",
              "Colesterol    62776.714286\n",
              "IMC              13.437905\n",
              "dtype: float64"
            ]
          },
          "metadata": {},
          "execution_count": 4
        }
      ]
    },
    {
      "cell_type": "markdown",
      "metadata": {
        "id": "xy8ImRJCwn6H"
      },
      "source": [
        "## Desvio Padrão"
      ]
    },
    {
      "cell_type": "markdown",
      "metadata": {
        "id": "-PtyswjA_8fn"
      },
      "source": [
        "Para calcular o desvio padrão podemos usar a função `std()` do pandas.\n",
        "É importante destacar que  o pandas (por meio de `std()`) calcula o desvio padrão da **AMOSTRA**, geralmente mais utilizado. Para obtenção do desvio padrão da população há opções na biblioteca `numpy`."
      ]
    },
    {
      "cell_type": "code",
      "metadata": {
        "id": "-hNQiInK__5J",
        "colab": {
          "base_uri": "https://localhost:8080/"
        },
        "outputId": "4d830f7a-b94b-4b51-ede3-eb8b72ed80f3"
      },
      "source": [
        "#desvio padrão\n",
        "pacientes.std()"
      ],
      "execution_count": null,
      "outputs": [
        {
          "output_type": "execute_result",
          "data": {
            "text/plain": [
              "Ident           6.204837\n",
              "Idade          16.141930\n",
              "Altura          0.084535\n",
              "Peso           12.375115\n",
              "Pulsacao       11.427619\n",
              "Sistolica      11.732332\n",
              "Diastolica     10.547850\n",
              "Colesterol    250.552817\n",
              "IMC             3.665775\n",
              "dtype: float64"
            ]
          },
          "metadata": {},
          "execution_count": 5
        }
      ]
    },
    {
      "cell_type": "markdown",
      "metadata": {
        "id": "QvW9cAbm7uFF"
      },
      "source": [
        "A variância e o desvio padrão mostram, de certa forma, como os valores estão dispersos em torno na média. \n",
        "\n",
        "O desvio padrão nos dá uma ideia de qual é a **diferença média** (variação) entre todos os pontos (cada valor) e a média desses pontos. \n",
        "\n",
        "Já a variância representa o quadrado dessa diferença média.\n"
      ]
    },
    {
      "cell_type": "markdown",
      "metadata": {
        "id": "t7NGfX5-x0OL"
      },
      "source": [
        "Para tentarmos entender o que significa e para que serve a variância e o desvio padrão, vamos analisar um determinado atributo, como por exemplo a pressão `Sistólica`.\n"
      ]
    },
    {
      "cell_type": "code",
      "metadata": {
        "id": "A-HpJ8lbyNiZ",
        "colab": {
          "base_uri": "https://localhost:8080/"
        },
        "outputId": "3205087e-aa27-42f2-d0f9-9773457fbfbe"
      },
      "source": [
        "print(\"Quantidade: \", pacientes.Sistolica.count())\n",
        "print(\"Medidas de Tendência Central ==============\")\n",
        "print(\"Média:\", pacientes.Sistolica.mean())\n",
        "print(\"Mediana:\", pacientes.Sistolica.median())\n",
        "print(\"Moda:\", pacientes.Sistolica.mode())\n",
        "print(\"Medidas de Dispersão ==================\")\n",
        "maximo= pacientes.Sistolica.max()\n",
        "minimo= pacientes.Sistolica.min()\n",
        "print(\"Amplitude :\", (maximo - minimo), \" Máximo: \", maximo, \" Mínimo: \", minimo)\n",
        "print(\"Variância : \", pacientes.Sistolica.var())\n",
        "print(\"Desvio Padrão: \", pacientes.Sistolica.std())\n"
      ],
      "execution_count": null,
      "outputs": [
        {
          "output_type": "stream",
          "name": "stdout",
          "text": [
            "Quantidade:  21\n",
            "Medidas de Tendência Central ==============\n",
            "Média: 119.95238095238095\n",
            "Mediana: 119.0\n",
            "Moda: 0    110\n",
            "dtype: int64\n",
            "Medidas de Dispersão ==================\n",
            "Amplitude : 46  Máximo:  153  Mínimo:  107\n",
            "Variância :  137.64761904761906\n",
            "Desvio Padrão:  11.732332208372684\n"
          ]
        }
      ]
    },
    {
      "cell_type": "markdown",
      "metadata": {
        "id": "vwkaQKs40kik"
      },
      "source": [
        "Analisando as medidas de tendência central e de dispersão de pressão Sistólica, temos que:\n",
        "*   média = 119.95\n",
        "*   menor = 107 (12.95 abaixo da média)\n",
        "*   maior = 153 (33.05 acima da média)\n",
        "*   Amplitude = 46\n",
        "\n",
        "Já o desvio padrão (desvio médio) é 11.73, indicando que em média, cada valor de pressão Sistólica varia (para mais ou para menos, 11.73 em relação a média aritmética (119.95).\n",
        "\n",
        "Este desvio parece indicar que os dados (de pressão Sistólica) são um tanto \"distantes\" um do outro (variam \"muito\")."
      ]
    },
    {
      "cell_type": "markdown",
      "metadata": {
        "id": "yhxgmlay8oqZ"
      },
      "source": [
        "A instrução a seguir lista todos os valores de Sistólica (em ordem crescente). Olhe para cada valor, e compare com a média (119.95) para verificar a variação."
      ]
    },
    {
      "cell_type": "code",
      "metadata": {
        "id": "VtP3G5D48aHv",
        "colab": {
          "base_uri": "https://localhost:8080/"
        },
        "outputId": "71f29c17-6d72-41f1-d190-c054fbc64ebc"
      },
      "source": [
        "print(pacientes.Sistolica.sort_values())"
      ],
      "execution_count": null,
      "outputs": [
        {
          "output_type": "stream",
          "name": "stdout",
          "text": [
            "1     107\n",
            "5     107\n",
            "10    109\n",
            "3     110\n",
            "4     110\n",
            "9     110\n",
            "19    112\n",
            "12    112\n",
            "6     113\n",
            "14    113\n",
            "13    119\n",
            "17    121\n",
            "20    121\n",
            "15    125\n",
            "0     125\n",
            "7     126\n",
            "2     126\n",
            "16    131\n",
            "18    132\n",
            "8     137\n",
            "11    153\n",
            "Name: Sistolica, dtype: int64\n"
          ]
        }
      ]
    },
    {
      "cell_type": "markdown",
      "metadata": {
        "id": "iG6v7nDGNCNT"
      },
      "source": [
        "## Medidas de um subconjunto dos dados\n",
        "Pode parecer estranho que a pressão Sistólica varie muito, não é? Só um especialista em saúde poderia explicar isso mais adequadamente."
      ]
    },
    {
      "cell_type": "markdown",
      "metadata": {
        "id": "lj5Ih6FTOzJO"
      },
      "source": [
        "De qualquer forma, mesmo um especialista em saúde, poderia querer analisar apenas uma faixa de idade, para verificar como a pressão Sistólica varia nessa faixa. Vejamos."
      ]
    },
    {
      "cell_type": "markdown",
      "metadata": {
        "id": "cMBPp59QPIVn"
      },
      "source": [
        "Para selecionar uma faixa de idade vamos olhar antes para os dados das idades, especialmente a média, amplitude e desvio padrão."
      ]
    },
    {
      "cell_type": "code",
      "metadata": {
        "id": "uo0uv6zjSl7Z",
        "colab": {
          "base_uri": "https://localhost:8080/"
        },
        "outputId": "94171a8d-fa25-45d1-997d-daf5058045e9"
      },
      "source": [
        "print(\"Média:\", pacientes.Idade.mean())\n",
        "print(\"Amplitude :\", pacientes.Idade.max() - pacientes.Idade.min())\n",
        "print(\"Desvio Padrão: \",pacientes.Idade.std())"
      ],
      "execution_count": null,
      "outputs": [
        {
          "output_type": "stream",
          "name": "stdout",
          "text": [
            "Média: 36.476190476190474\n",
            "Amplitude : 56\n",
            "Desvio Padrão:  16.14193001973137\n"
          ]
        }
      ]
    },
    {
      "cell_type": "markdown",
      "metadata": {
        "id": "9OvyMP68S-9g"
      },
      "source": [
        "A amplitude (56 anos) parece bem alta. Então, vamos listar as idades em ordem crescente para então escolher uma faixa."
      ]
    },
    {
      "cell_type": "code",
      "metadata": {
        "id": "uleNYDziPRXQ",
        "colab": {
          "base_uri": "https://localhost:8080/"
        },
        "outputId": "647e1a77-b43c-4846-e46c-8ea085d48654"
      },
      "source": [
        "pacientes.Idade.sort_values()"
      ],
      "execution_count": null,
      "outputs": [
        {
          "output_type": "execute_result",
          "data": {
            "text/plain": [
              "10    17\n",
              "15    17\n",
              "19    20\n",
              "8     20\n",
              "20    20\n",
              "1     22\n",
              "13    25\n",
              "4     28\n",
              "14    29\n",
              "3     31\n",
              "2     32\n",
              "18    32\n",
              "6     41\n",
              "16    41\n",
              "5     46\n",
              "12    52\n",
              "17    52\n",
              "9     54\n",
              "7     56\n",
              "0     58\n",
              "11    73\n",
              "Name: Idade, dtype: int64"
            ]
          },
          "metadata": {},
          "execution_count": 9
        }
      ]
    },
    {
      "cell_type": "markdown",
      "metadata": {
        "id": "pnK7YuRNTRKJ"
      },
      "source": [
        "Vamos analisar a pressão dos pacientes abaixo de 30 anos e verificar as medidas de tendência central e dispersão. As instruções a seguir obtêm o subconjunto. O subconjunto se chama dFaixa30."
      ]
    },
    {
      "cell_type": "code",
      "metadata": {
        "id": "KkTUwMO2VIwF",
        "colab": {
          "base_uri": "https://localhost:8080/",
          "height": 332
        },
        "outputId": "1be6baef-8812-4aac-aab0-acc5074f386c"
      },
      "source": [
        "dFaixa30 = pacientes[[\"Sistolica\",\"Idade\"]].query(\"Idade < 30\")\n",
        "dFaixa30"
      ],
      "execution_count": null,
      "outputs": [
        {
          "output_type": "execute_result",
          "data": {
            "text/plain": [
              "    Sistolica  Idade\n",
              "1         107     22\n",
              "4         110     28\n",
              "8         137     20\n",
              "10        109     17\n",
              "13        119     25\n",
              "14        113     29\n",
              "15        125     17\n",
              "19        112     20\n",
              "20        121     20"
            ],
            "text/html": [
              "\n",
              "  <div id=\"df-e26de492-611d-432c-9b6c-89fc7a5cad5c\">\n",
              "    <div class=\"colab-df-container\">\n",
              "      <div>\n",
              "<style scoped>\n",
              "    .dataframe tbody tr th:only-of-type {\n",
              "        vertical-align: middle;\n",
              "    }\n",
              "\n",
              "    .dataframe tbody tr th {\n",
              "        vertical-align: top;\n",
              "    }\n",
              "\n",
              "    .dataframe thead th {\n",
              "        text-align: right;\n",
              "    }\n",
              "</style>\n",
              "<table border=\"1\" class=\"dataframe\">\n",
              "  <thead>\n",
              "    <tr style=\"text-align: right;\">\n",
              "      <th></th>\n",
              "      <th>Sistolica</th>\n",
              "      <th>Idade</th>\n",
              "    </tr>\n",
              "  </thead>\n",
              "  <tbody>\n",
              "    <tr>\n",
              "      <th>1</th>\n",
              "      <td>107</td>\n",
              "      <td>22</td>\n",
              "    </tr>\n",
              "    <tr>\n",
              "      <th>4</th>\n",
              "      <td>110</td>\n",
              "      <td>28</td>\n",
              "    </tr>\n",
              "    <tr>\n",
              "      <th>8</th>\n",
              "      <td>137</td>\n",
              "      <td>20</td>\n",
              "    </tr>\n",
              "    <tr>\n",
              "      <th>10</th>\n",
              "      <td>109</td>\n",
              "      <td>17</td>\n",
              "    </tr>\n",
              "    <tr>\n",
              "      <th>13</th>\n",
              "      <td>119</td>\n",
              "      <td>25</td>\n",
              "    </tr>\n",
              "    <tr>\n",
              "      <th>14</th>\n",
              "      <td>113</td>\n",
              "      <td>29</td>\n",
              "    </tr>\n",
              "    <tr>\n",
              "      <th>15</th>\n",
              "      <td>125</td>\n",
              "      <td>17</td>\n",
              "    </tr>\n",
              "    <tr>\n",
              "      <th>19</th>\n",
              "      <td>112</td>\n",
              "      <td>20</td>\n",
              "    </tr>\n",
              "    <tr>\n",
              "      <th>20</th>\n",
              "      <td>121</td>\n",
              "      <td>20</td>\n",
              "    </tr>\n",
              "  </tbody>\n",
              "</table>\n",
              "</div>\n",
              "      <button class=\"colab-df-convert\" onclick=\"convertToInteractive('df-e26de492-611d-432c-9b6c-89fc7a5cad5c')\"\n",
              "              title=\"Convert this dataframe to an interactive table.\"\n",
              "              style=\"display:none;\">\n",
              "        \n",
              "  <svg xmlns=\"http://www.w3.org/2000/svg\" height=\"24px\"viewBox=\"0 0 24 24\"\n",
              "       width=\"24px\">\n",
              "    <path d=\"M0 0h24v24H0V0z\" fill=\"none\"/>\n",
              "    <path d=\"M18.56 5.44l.94 2.06.94-2.06 2.06-.94-2.06-.94-.94-2.06-.94 2.06-2.06.94zm-11 1L8.5 8.5l.94-2.06 2.06-.94-2.06-.94L8.5 2.5l-.94 2.06-2.06.94zm10 10l.94 2.06.94-2.06 2.06-.94-2.06-.94-.94-2.06-.94 2.06-2.06.94z\"/><path d=\"M17.41 7.96l-1.37-1.37c-.4-.4-.92-.59-1.43-.59-.52 0-1.04.2-1.43.59L10.3 9.45l-7.72 7.72c-.78.78-.78 2.05 0 2.83L4 21.41c.39.39.9.59 1.41.59.51 0 1.02-.2 1.41-.59l7.78-7.78 2.81-2.81c.8-.78.8-2.07 0-2.86zM5.41 20L4 18.59l7.72-7.72 1.47 1.35L5.41 20z\"/>\n",
              "  </svg>\n",
              "      </button>\n",
              "      \n",
              "  <style>\n",
              "    .colab-df-container {\n",
              "      display:flex;\n",
              "      flex-wrap:wrap;\n",
              "      gap: 12px;\n",
              "    }\n",
              "\n",
              "    .colab-df-convert {\n",
              "      background-color: #E8F0FE;\n",
              "      border: none;\n",
              "      border-radius: 50%;\n",
              "      cursor: pointer;\n",
              "      display: none;\n",
              "      fill: #1967D2;\n",
              "      height: 32px;\n",
              "      padding: 0 0 0 0;\n",
              "      width: 32px;\n",
              "    }\n",
              "\n",
              "    .colab-df-convert:hover {\n",
              "      background-color: #E2EBFA;\n",
              "      box-shadow: 0px 1px 2px rgba(60, 64, 67, 0.3), 0px 1px 3px 1px rgba(60, 64, 67, 0.15);\n",
              "      fill: #174EA6;\n",
              "    }\n",
              "\n",
              "    [theme=dark] .colab-df-convert {\n",
              "      background-color: #3B4455;\n",
              "      fill: #D2E3FC;\n",
              "    }\n",
              "\n",
              "    [theme=dark] .colab-df-convert:hover {\n",
              "      background-color: #434B5C;\n",
              "      box-shadow: 0px 1px 3px 1px rgba(0, 0, 0, 0.15);\n",
              "      filter: drop-shadow(0px 1px 2px rgba(0, 0, 0, 0.3));\n",
              "      fill: #FFFFFF;\n",
              "    }\n",
              "  </style>\n",
              "\n",
              "      <script>\n",
              "        const buttonEl =\n",
              "          document.querySelector('#df-e26de492-611d-432c-9b6c-89fc7a5cad5c button.colab-df-convert');\n",
              "        buttonEl.style.display =\n",
              "          google.colab.kernel.accessAllowed ? 'block' : 'none';\n",
              "\n",
              "        async function convertToInteractive(key) {\n",
              "          const element = document.querySelector('#df-e26de492-611d-432c-9b6c-89fc7a5cad5c');\n",
              "          const dataTable =\n",
              "            await google.colab.kernel.invokeFunction('convertToInteractive',\n",
              "                                                     [key], {});\n",
              "          if (!dataTable) return;\n",
              "\n",
              "          const docLinkHtml = 'Like what you see? Visit the ' +\n",
              "            '<a target=\"_blank\" href=https://colab.research.google.com/notebooks/data_table.ipynb>data table notebook</a>'\n",
              "            + ' to learn more about interactive tables.';\n",
              "          element.innerHTML = '';\n",
              "          dataTable['output_type'] = 'display_data';\n",
              "          await google.colab.output.renderOutput(dataTable, element);\n",
              "          const docLink = document.createElement('div');\n",
              "          docLink.innerHTML = docLinkHtml;\n",
              "          element.appendChild(docLink);\n",
              "        }\n",
              "      </script>\n",
              "    </div>\n",
              "  </div>\n",
              "  "
            ]
          },
          "metadata": {},
          "execution_count": 10
        }
      ]
    },
    {
      "cell_type": "markdown",
      "metadata": {
        "id": "IGpoE8rmVwuW"
      },
      "source": [
        "Agora vamos analisar as medidas de `Sistólica` apenas dessa faixa-etária."
      ]
    },
    {
      "cell_type": "code",
      "metadata": {
        "id": "XUe4XcCDWT1u",
        "colab": {
          "base_uri": "https://localhost:8080/"
        },
        "outputId": "e661011c-5f57-4573-d945-1613c7584972"
      },
      "source": [
        "print(\"Quantidade: \", dFaixa30.Sistolica.count())\n",
        "print(\"Média:\", dFaixa30.Sistolica.mean())\n",
        "maximo= dFaixa30.Sistolica.max()\n",
        "minimo= dFaixa30.Sistolica.min()\n",
        "print(\"Amplitude :\", (maximo - minimo), \" Máximo: \", maximo, \" Mínimo: \", minimo)\n",
        "print(\"Desvio Padrão: \", dFaixa30.Sistolica.std())"
      ],
      "execution_count": null,
      "outputs": [
        {
          "output_type": "stream",
          "name": "stdout",
          "text": [
            "Quantidade:  9\n",
            "Média: 117.0\n",
            "Amplitude : 30  Máximo:  137  Mínimo:  107\n",
            "Desvio Padrão:  9.604686356149273\n"
          ]
        }
      ]
    },
    {
      "cell_type": "markdown",
      "metadata": {
        "id": "WgxAfTjbXEBj"
      },
      "source": [
        "No conjunto completo (21 pacientes) a **média** é **119.95** e no subconjunto (9 pacientes) é **117.0**. O **desvio padrão** de `Sistólica` do conjunto é **11.73** e nesse subcojunto **9.6**. E a **amplitude** de `Sistólica` do conjunto completo é **46** e do subconjunto é **30**. Pode-se concluir que possivelmente a Idade tenha relação com os índices de Pressão Sistólica. Mas claro, quem pode explicar isso direitinho é um especialista. Por isso, em Ciência dos Dados, normalmente temos uma equipe multidisciplinar para produzir informações e analisar dados."
      ]
    },
    {
      "cell_type": "markdown",
      "metadata": {
        "id": "0Ymtmqdw0Ne6"
      },
      "source": [
        "## Várias Medidas\n",
        "Assim, para uma análise mais apurada deve-se olhar várias medidas.\n",
        "\n",
        "O pandas tem uma função que calcula diferentes medidas de tendência central e dispersão em uma única instrução, que é a `describe()`:"
      ]
    },
    {
      "cell_type": "code",
      "metadata": {
        "id": "JpEHNEks-vhf",
        "colab": {
          "base_uri": "https://localhost:8080/"
        },
        "outputId": "8bf2d11b-208e-48d5-8855-50ced1c6534a"
      },
      "source": [
        "pacientes.Sistolica.describe()"
      ],
      "execution_count": null,
      "outputs": [
        {
          "output_type": "execute_result",
          "data": {
            "text/plain": [
              "count     21.000000\n",
              "mean     119.952381\n",
              "std       11.732332\n",
              "min      107.000000\n",
              "25%      110.000000\n",
              "50%      119.000000\n",
              "75%      126.000000\n",
              "max      153.000000\n",
              "Name: Sistolica, dtype: float64"
            ]
          },
          "metadata": {},
          "execution_count": 12
        }
      ]
    },
    {
      "cell_type": "markdown",
      "metadata": {
        "id": "Pb67bb6jC0dK"
      },
      "source": [
        "Essa função mostra a contagem (`count`), que é o número de valores não nulos, a média (`mean`), desvio padrão (`std`) e mediana (`50%`). Além disso, também são mostrados o mínimo (`min`) e máximo (`max`), e o 1o. (`25\\%` - $Q_1$) e 3o. (`75%` - $Q_3$) quartis.  Assim como a mediana divide os valores ao meio (por isso `50%`) e utilizamos o valor que está bem nesse meio, para os quartis dividimos a série em quatro partes, e utilizamos o valor entre o 1a. e 3a. parte para representar os quartis."
      ]
    },
    {
      "cell_type": "markdown",
      "metadata": {
        "id": "C5llW36uHHaq"
      },
      "source": [
        "## Extra - Sobre Histogramas\n",
        "\n",
        "Um gráfico que ajuda a mostrar a tendência central e a dispersão dos dados é o histograma. Ele é uma representação gráfica em colunas ou barras, com a frequência dos valores, divididos em intervalos (uniformes ou não uniformes). A base de cada retângulo representa o intervalo."
      ]
    },
    {
      "cell_type": "markdown",
      "metadata": {
        "id": "Rf1OsenKBM4f"
      },
      "source": [
        "O parâmetro `bins` indica a quantidade de barras. A quantidade de barras é opcional, e se não passarmos nenhuma quantidade ela é definida em 10 por padrão."
      ]
    },
    {
      "cell_type": "code",
      "metadata": {
        "id": "fK9SRYXlHRIF",
        "colab": {
          "base_uri": "https://localhost:8080/",
          "height": 282
        },
        "outputId": "2f534ac9-e5aa-43ab-ea9f-c6e83895b10b"
      },
      "source": [
        "pacientes.Sistolica.hist(bins=20)"
      ],
      "execution_count": null,
      "outputs": [
        {
          "output_type": "execute_result",
          "data": {
            "text/plain": [
              "<matplotlib.axes._subplots.AxesSubplot at 0x7f795ae55bd0>"
            ]
          },
          "metadata": {},
          "execution_count": 13
        },
        {
          "output_type": "display_data",
          "data": {
            "text/plain": [
              "<Figure size 432x288 with 1 Axes>"
            ],
            "image/png": "[encoded data removed]"
          },
          "metadata": {
            "needs_background": "light"
          }
        }
      ]
    },
    {
      "cell_type": "markdown",
      "metadata": {
        "id": "ENnKh5YkDsbF"
      },
      "source": [
        "Não lhe parece que o histograma acima mostra uma alta \"concentração\" em torno do 110? E depois um pouco de concentração entre 120 e 125?"
      ]
    },
    {
      "cell_type": "markdown",
      "metadata": {
        "id": "cYhW7VDuBjN-"
      },
      "source": [
        "O gráfico de barras abaixo, mostra a pressão sistólica no eixo Y e cada valor de pressão Sistólica no **eixo X**. Tente imaginar uma linha \"vermelha\" na média (119.95) e então vislumbrar cada ocorrência acima ou abaixo da média. Veja a próxima figura."
      ]
    },
    {
      "cell_type": "code",
      "metadata": {
        "id": "d_D3BKEU-UJJ",
        "colab": {
          "base_uri": "https://localhost:8080/",
          "height": 288
        },
        "outputId": "321f81e4-ce54-4b10-b38d-f1037f179fb7"
      },
      "source": [
        "pacientes.Sistolica.plot(kind='bar')"
      ],
      "execution_count": null,
      "outputs": [
        {
          "output_type": "execute_result",
          "data": {
            "text/plain": [
              "<matplotlib.axes._subplots.AxesSubplot at 0x7f795a8af210>"
            ]
          },
          "metadata": {},
          "execution_count": 14
        },
        {
          "output_type": "display_data",
          "data": {
            "text/plain": [
              "<Figure size 432x288 with 1 Axes>"
            ],
            "image/png": "[encoded data removed]"
          },
          "metadata": {
            "needs_background": "light"
          }
        }
      ]
    },
    {
      "cell_type": "markdown",
      "metadata": {
        "id": "ZjkD1CwfDM4d"
      },
      "source": [
        "![BarrasSistolica.png](data:image/png;base64,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)"
      ]
    },
    {
      "cell_type": "markdown",
      "metadata": {
        "id": "etKurCf56SPg"
      },
      "source": [
        "Nas próximas aulas vamos explorar mais a parte gráfica."
      ]
    },
    {
      "cell_type": "markdown",
      "metadata": {
        "id": "mAs7sDbh67xo"
      },
      "source": [
        "##Exercícios"
      ]
    },
    {
      "cell_type": "markdown",
      "metadata": {
        "id": "zPcM7wXG7DnW"
      },
      "source": [
        "###Exercícios 01\n",
        "Exibir as três medidas de dispersão de Pulsação (amplitude, variância e desvio padrão) com os rótulos que idenfiquem cada medida."
      ]
    },
    {
      "cell_type": "code",
      "metadata": {
        "id": "w7aTczZn7GBZ"
      },
      "source": [
        "# Use um print para cada medida\n",
        "# Digite sua resposta aqui"
      ],
      "execution_count": null,
      "outputs": []
    },
    {
      "cell_type": "markdown",
      "metadata": {
        "id": "XyYVn1my7X5N"
      },
      "source": [
        "###Exercícios 02\n",
        "Exibir as três medidas de tendência central (média, mediana, moda) e as três medidas de dispersão de Pulsação (amplitude, variância e desvio padrão) com os rótulos que idenfiquem cada medida."
      ]
    },
    {
      "cell_type": "code",
      "metadata": {
        "id": "mh4z_jPb7lEv"
      },
      "source": [
        "# Use um print para cada medida\n",
        "# Digite sua resposta aqui"
      ],
      "execution_count": null,
      "outputs": []
    },
    {
      "cell_type": "markdown",
      "metadata": {
        "id": "fOJbS9aI7m8a"
      },
      "source": [
        "###Exercícios 03\n",
        "\n",
        "Use o describe para exibir todas as medidas "
      ]
    },
    {
      "cell_type": "code",
      "metadata": {
        "id": "tNHxXr2Q7z92"
      },
      "source": [
        " # Digite sua resposta aqui"
      ],
      "execution_count": null,
      "outputs": []
    },
    {
      "cell_type": "markdown",
      "metadata": {
        "id": "qE4O7k-E7137"
      },
      "source": [
        "Procure fazer uma análise das medidas de tendência central e de dispersão de Pulsação. Você considera que os dados estão pouco dispersos ou muito dispersos?"
      ]
    },
    {
      "cell_type": "markdown",
      "metadata": {
        "id": "O9ieUahH8Dm-"
      },
      "source": [
        "Se desejar, plote um histograma de Pulsação para apoiar sua análise. "
      ]
    },
    {
      "cell_type": "code",
      "metadata": {
        "id": "p_ywHJMmbzYb"
      },
      "source": [
        " # Digite sua resposta aqui"
      ],
      "execution_count": null,
      "outputs": []
    },
    {
      "cell_type": "markdown",
      "metadata": {
        "id": "OKq_0Z8lbxPL"
      },
      "source": [
        "Se desejar, analise um subconjunto que os dados de pulsação seja mais comportado. "
      ]
    },
    {
      "cell_type": "code",
      "metadata": {
        "id": "eMY4DgKKDYtB"
      },
      "source": [
        " # Digite sua resposta aqui"
      ],
      "execution_count": null,
      "outputs": []
    },
    {
      "cell_type": "markdown",
      "metadata": {
        "id": "wO9dwN9CDZ2O"
      },
      "source": [
        "A célula abaixo é livre para testes."
      ]
    },
    {
      "cell_type": "code",
      "metadata": {
        "id": "8548CaMKDfs8"
      },
      "source": [
        "# Digite códigos python aqui\n"
      ],
      "execution_count": null,
      "outputs": []
    }
  ]
}