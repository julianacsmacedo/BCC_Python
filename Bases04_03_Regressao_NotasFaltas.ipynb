{
  "nbformat": 4,
  "nbformat_minor": 0,
  "metadata": {
    "colab": {
      "name": "Bases04_03_Regressao_NotasFaltas.ipynb",
      "provenance": [],
      "collapsed_sections": [
        "mlvMZWFCZZ6x",
        "6-Kclw-sH_-o"
      ],
      "toc_visible": true,
      "include_colab_link": true
    },
    "kernelspec": {
      "name": "python3",
      "display_name": "Python 3"
    }
  },
  "cells": [
    {
      "cell_type": "markdown",
      "metadata": {
        "id": "view-in-github",
        "colab_type": "text"
      },
      "source": [
        "<a href=\"https://colab.research.google.com/github/julianacsmacedo/BCC_Python/blob/main/Bases04_03_Regressao_NotasFaltas.ipynb\" target=\"_parent\"><img src=\"https://colab.research.google.com/assets/colab-badge.svg\" alt=\"Open In Colab\"/></a>"
      ]
    },
    {
      "cell_type": "markdown",
      "metadata": {
        "id": "6mXSEWvGj5vI"
      },
      "source": [
        "#**Correlação e Regressão (Parte 2)**\n"
      ]
    },
    {
      "cell_type": "markdown",
      "metadata": {
        "id": "GfYWB1ZQhhbL"
      },
      "source": [
        "\n",
        "```\n",
        "(*) Adaptado de material preparado pelo Prof. Wagner Tanaka e Prof. Ronaldo Prati\n",
        "```\n"
      ]
    },
    {
      "cell_type": "markdown",
      "metadata": {
        "id": "XrpIEmUIh9hm"
      },
      "source": [
        "Depois de constatar que existe uma correlação linear significante, é possível escrever uma equação que descreva a RELAÇÃO LINEAR entre as variáveis `X` e `Y`.\n",
        "Essa equação chama-se **reta de regressão**, ou reta do ajuste ótimo. \n",
        "\n",
        "De fato, já vimos um exempo desta reta fazendo uso da função `lmplot()` do pandas (lm de linear model). Vamos reproduzir aqui.\n"
      ]
    },
    {
      "cell_type": "markdown",
      "metadata": {
        "id": "C9bbrsiRkkfa"
      },
      "source": [
        "## Base de dados de Notas e Faltas"
      ]
    },
    {
      "cell_type": "markdown",
      "metadata": {
        "id": "3JHViFpZkfzO"
      },
      "source": [
        "Antes de prosseguir precisamos carregar a base de dados para nossos exemplos. Trata-se da tabela ESTUDANTES contendo duas  informações: Notas e Faltas."
      ]
    },
    {
      "cell_type": "code",
      "metadata": {
        "id": "o7beWVenlZww",
        "outputId": "e27242c4-1dfe-49e0-ff28-d66c83cdd656",
        "colab": {
          "base_uri": "https://localhost:8080/",
          "height": 269
        }
      },
      "source": [
        "#https://drive.google.com/file/d/1tUCrugG4okAM9x5oRMDskqMxlDbblFEF/view?usp=sharing\n",
        "import pandas as pd \n",
        "codigo = \"1tUCrugG4okAM9x5oRMDskqMxlDbblFEF\"\n",
        "file = \"https://drive.google.com/u/3/uc?id=\" + codigo + \"&export=download\"\n",
        "# Note a especificação de SEPARADOR (ponto e vírgula)\n",
        "# Note a especificação de VÍRGULA DECIMAL\n",
        "alunos = pd.read_csv(file, sep = \";\",decimal=\",\")\n",
        "alunos"
      ],
      "execution_count": null,
      "outputs": [
        {
          "output_type": "execute_result",
          "data": {
            "text/plain": [
              "   Faltas  Notas\n",
              "0       8    7.8\n",
              "1       2    9.2\n",
              "2       5    9.0\n",
              "3      12    5.8\n",
              "4      15    4.3\n",
              "5       9    7.4\n",
              "6       6    8.1"
            ],
            "text/html": [
              "\n",
              "  <div id=\"df-455ffdfb-181b-48fe-be68-fcfb4b059eba\">\n",
              "    <div class=\"colab-df-container\">\n",
              "      <div>\n",
              "<style scoped>\n",
              "    .dataframe tbody tr th:only-of-type {\n",
              "        vertical-align: middle;\n",
              "    }\n",
              "\n",
              "    .dataframe tbody tr th {\n",
              "        vertical-align: top;\n",
              "    }\n",
              "\n",
              "    .dataframe thead th {\n",
              "        text-align: right;\n",
              "    }\n",
              "</style>\n",
              "<table border=\"1\" class=\"dataframe\">\n",
              "  <thead>\n",
              "    <tr style=\"text-align: right;\">\n",
              "      <th></th>\n",
              "      <th>Faltas</th>\n",
              "      <th>Notas</th>\n",
              "    </tr>\n",
              "  </thead>\n",
              "  <tbody>\n",
              "    <tr>\n",
              "      <th>0</th>\n",
              "      <td>8</td>\n",
              "      <td>7.8</td>\n",
              "    </tr>\n",
              "    <tr>\n",
              "      <th>1</th>\n",
              "      <td>2</td>\n",
              "      <td>9.2</td>\n",
              "    </tr>\n",
              "    <tr>\n",
              "      <th>2</th>\n",
              "      <td>5</td>\n",
              "      <td>9.0</td>\n",
              "    </tr>\n",
              "    <tr>\n",
              "      <th>3</th>\n",
              "      <td>12</td>\n",
              "      <td>5.8</td>\n",
              "    </tr>\n",
              "    <tr>\n",
              "      <th>4</th>\n",
              "      <td>15</td>\n",
              "      <td>4.3</td>\n",
              "    </tr>\n",
              "    <tr>\n",
              "      <th>5</th>\n",
              "      <td>9</td>\n",
              "      <td>7.4</td>\n",
              "    </tr>\n",
              "    <tr>\n",
              "      <th>6</th>\n",
              "      <td>6</td>\n",
              "      <td>8.1</td>\n",
              "    </tr>\n",
              "  </tbody>\n",
              "</table>\n",
              "</div>\n",
              "      <button class=\"colab-df-convert\" onclick=\"convertToInteractive('df-455ffdfb-181b-48fe-be68-fcfb4b059eba')\"\n",
              "              title=\"Convert this dataframe to an interactive table.\"\n",
              "              style=\"display:none;\">\n",
              "        \n",
              "  <svg xmlns=\"http://www.w3.org/2000/svg\" height=\"24px\"viewBox=\"0 0 24 24\"\n",
              "       width=\"24px\">\n",
              "    <path d=\"M0 0h24v24H0V0z\" fill=\"none\"/>\n",
              "    <path d=\"M18.56 5.44l.94 2.06.94-2.06 2.06-.94-2.06-.94-.94-2.06-.94 2.06-2.06.94zm-11 1L8.5 8.5l.94-2.06 2.06-.94-2.06-.94L8.5 2.5l-.94 2.06-2.06.94zm10 10l.94 2.06.94-2.06 2.06-.94-2.06-.94-.94-2.06-.94 2.06-2.06.94z\"/><path d=\"M17.41 7.96l-1.37-1.37c-.4-.4-.92-.59-1.43-.59-.52 0-1.04.2-1.43.59L10.3 9.45l-7.72 7.72c-.78.78-.78 2.05 0 2.83L4 21.41c.39.39.9.59 1.41.59.51 0 1.02-.2 1.41-.59l7.78-7.78 2.81-2.81c.8-.78.8-2.07 0-2.86zM5.41 20L4 18.59l7.72-7.72 1.47 1.35L5.41 20z\"/>\n",
              "  </svg>\n",
              "      </button>\n",
              "      \n",
              "  <style>\n",
              "    .colab-df-container {\n",
              "      display:flex;\n",
              "      flex-wrap:wrap;\n",
              "      gap: 12px;\n",
              "    }\n",
              "\n",
              "    .colab-df-convert {\n",
              "      background-color: #E8F0FE;\n",
              "      border: none;\n",
              "      border-radius: 50%;\n",
              "      cursor: pointer;\n",
              "      display: none;\n",
              "      fill: #1967D2;\n",
              "      height: 32px;\n",
              "      padding: 0 0 0 0;\n",
              "      width: 32px;\n",
              "    }\n",
              "\n",
              "    .colab-df-convert:hover {\n",
              "      background-color: #E2EBFA;\n",
              "      box-shadow: 0px 1px 2px rgba(60, 64, 67, 0.3), 0px 1px 3px 1px rgba(60, 64, 67, 0.15);\n",
              "      fill: #174EA6;\n",
              "    }\n",
              "\n",
              "    [theme=dark] .colab-df-convert {\n",
              "      background-color: #3B4455;\n",
              "      fill: #D2E3FC;\n",
              "    }\n",
              "\n",
              "    [theme=dark] .colab-df-convert:hover {\n",
              "      background-color: #434B5C;\n",
              "      box-shadow: 0px 1px 3px 1px rgba(0, 0, 0, 0.15);\n",
              "      filter: drop-shadow(0px 1px 2px rgba(0, 0, 0, 0.3));\n",
              "      fill: #FFFFFF;\n",
              "    }\n",
              "  </style>\n",
              "\n",
              "      <script>\n",
              "        const buttonEl =\n",
              "          document.querySelector('#df-455ffdfb-181b-48fe-be68-fcfb4b059eba button.colab-df-convert');\n",
              "        buttonEl.style.display =\n",
              "          google.colab.kernel.accessAllowed ? 'block' : 'none';\n",
              "\n",
              "        async function convertToInteractive(key) {\n",
              "          const element = document.querySelector('#df-455ffdfb-181b-48fe-be68-fcfb4b059eba');\n",
              "          const dataTable =\n",
              "            await google.colab.kernel.invokeFunction('convertToInteractive',\n",
              "                                                     [key], {});\n",
              "          if (!dataTable) return;\n",
              "\n",
              "          const docLinkHtml = 'Like what you see? Visit the ' +\n",
              "            '<a target=\"_blank\" href=https://colab.research.google.com/notebooks/data_table.ipynb>data table notebook</a>'\n",
              "            + ' to learn more about interactive tables.';\n",
              "          element.innerHTML = '';\n",
              "          dataTable['output_type'] = 'display_data';\n",
              "          await google.colab.output.renderOutput(dataTable, element);\n",
              "          const docLink = document.createElement('div');\n",
              "          docLink.innerHTML = docLinkHtml;\n",
              "          element.appendChild(docLink);\n",
              "        }\n",
              "      </script>\n",
              "    </div>\n",
              "  </div>\n",
              "  "
            ]
          },
          "metadata": {},
          "execution_count": 33
        }
      ]
    },
    {
      "cell_type": "markdown",
      "metadata": {
        "id": "HEkqZgzdl_FA"
      },
      "source": [
        "`info()` e `describe()` podem ser utilizados para explorar os dados. Note que esta tabela contém apenas 7 linhas."
      ]
    },
    {
      "cell_type": "code",
      "metadata": {
        "id": "M2-3GtkWl0SX",
        "outputId": "6d843954-a704-404f-ea38-65906fa78d04",
        "colab": {
          "base_uri": "https://localhost:8080/"
        }
      },
      "source": [
        "alunos.info()"
      ],
      "execution_count": null,
      "outputs": [
        {
          "output_type": "stream",
          "name": "stdout",
          "text": [
            "<class 'pandas.core.frame.DataFrame'>\n",
            "RangeIndex: 7 entries, 0 to 6\n",
            "Data columns (total 2 columns):\n",
            " #   Column  Non-Null Count  Dtype  \n",
            "---  ------  --------------  -----  \n",
            " 0   Faltas  7 non-null      int64  \n",
            " 1   Notas   7 non-null      float64\n",
            "dtypes: float64(1), int64(1)\n",
            "memory usage: 240.0 bytes\n"
          ]
        }
      ]
    },
    {
      "cell_type": "markdown",
      "metadata": {
        "id": "BV5gCgFtvjS0"
      },
      "source": [
        "A instrução a seguir calcula o coeficiente de correlação entre Faltas e Notas. "
      ]
    },
    {
      "cell_type": "code",
      "metadata": {
        "id": "bmSqTgktqCxw",
        "outputId": "0cf6b9b9-f40c-4b18-d25b-09759bb946d7",
        "colab": {
          "base_uri": "https://localhost:8080/"
        }
      },
      "source": [
        "alunos['Faltas'].corr(alunos['Notas'])"
      ],
      "execution_count": null,
      "outputs": [
        {
          "output_type": "execute_result",
          "data": {
            "text/plain": [
              "-0.9747632142351271"
            ]
          },
          "metadata": {},
          "execution_count": 35
        }
      ]
    },
    {
      "cell_type": "markdown",
      "metadata": {
        "id": "MH7z-owjxPt2"
      },
      "source": [
        "O coeficiente de correlação é **NEGATIVO** e próximo de **-1**. Portanto, os dois atributos **Faltas por Semestre (X)** e **Nota Final (Y)** possuem **FORTE** correlação **NEGATIVA**. "
      ]
    },
    {
      "cell_type": "markdown",
      "metadata": {
        "id": "3TjY4AsEzKmo"
      },
      "source": [
        "### Reta de Regressão\n",
        "\n",
        "Dado que temos uma correlação bem significativa, muito próxima de 1 (em módulo), vamos tentar escrever a reta de regressão. A função lmplot, traça essa reta, conforme instruções a seguir. \n",
        "> `Seaborn` é uma biblioteca gráfica que atua em cima do matplotlib e ajuda a melhorar o visual dos gráficos, dando uma aparência mais bem acabada. Veremos isto melhor mais adiante quando formos explorar gráficos."
      ]
    },
    {
      "cell_type": "code",
      "metadata": {
        "id": "qL0mQmLZpfT8",
        "outputId": "660b3e7d-211e-4c6d-b753-b874ef455e53",
        "colab": {
          "base_uri": "https://localhost:8080/",
          "height": 408
        }
      },
      "source": [
        "import seaborn as sns \n",
        "# graf é o nome da variável que armazena o gráfico (poderíamos usar outro nome de variável) \n",
        "graf = sns.lmplot(x=\"Faltas\", y=\"Notas\", data=alunos)\n",
        "graf.fig.set_size_inches(10,5)\n",
        "graf.fig.suptitle('Faltas X Notas', fontsize=16, y=1.02)\n",
        "graf.set_xlabels(\"Faltas por Semestre (X)\", fontsize=14)\n",
        "graf.set_ylabels(\"Nota Final (Y)\", fontsize=14)"
      ],
      "execution_count": null,
      "outputs": [
        {
          "output_type": "execute_result",
          "data": {
            "text/plain": [
              "<seaborn.axisgrid.FacetGrid at 0x7fdf6c6f1590>"
            ]
          },
          "metadata": {},
          "execution_count": 36
        },
        {
          "output_type": "display_data",
          "data": {
            "text/plain": [
              "<Figure size 720x360 with 1 Axes>"
            ],
            "image/png": "[encoded data removed]"
          },
          "metadata": {
            "needs_background": "light"
          }
        }
      ]
    },
    {
      "cell_type": "markdown",
      "metadata": {
        "id": "3xKvq3IMqQBt"
      },
      "source": [
        "Note que a reta no gráfico de dispersão acima, chega a tocar alguns pontos. E os demais, que não tocam, estão relativamente próximos da reta.\n",
        "\n",
        "É importante registrar que quanto mais afastados estiverem os pontos (na reta) pior a reta representará a relação entre as amostras."
      ]
    },
    {
      "cell_type": "markdown",
      "metadata": {
        "id": "ySLTzhjpvq0l"
      },
      "source": [
        "### Equação de Regressão\n",
        "\n",
        "O próximo passo é a equação de regressão, ou seja, a equação que descreve a relação linear entre as variáveis X e Y.\n"
      ]
    },
    {
      "cell_type": "markdown",
      "metadata": {
        "id": "Nyx62Qtk268c"
      },
      "source": [
        "O ajuste de uma reta é um **modelo linear** (linear model) que relaciona a variável dependente `Y` e a variável independente `X` por meio da equação de uma reta do tipo\n",
        "\n",
        "                         Y = mX + b\n",
        "\n",
        " sendo\n",
        " * Y : a variável dependente\n",
        " * `m` : a inclinação da reta (coeficiente angular)\n",
        " * X: a variável independente\n",
        " * `b` : o intercepto de `Y` (valor de `Y` para `X` = 0)\n"
      ]
    },
    {
      "cell_type": "markdown",
      "metadata": {
        "id": "g4cr5yrJ5EnQ"
      },
      "source": [
        "Em python, podemos usar a biblioteca numpy para encontrar essa (equação da reta. \n",
        "\n",
        "Para isso, usamos o método `polyfit` (da biblioteca `numpy`) , que pode ser usado para encontrar polinômios que se ajustam aos dados. \n",
        "\n",
        "Vamos utilizar os seguintes parâmetros:\n",
        "* x (variável independente) = Faltas;\n",
        "* y (variável dependente) = Notas\n",
        "* deg (degree = grau do polinômio = 1, pois queremos uma reta. \n",
        "\n",
        "O resultado dessa chamada usando polyfit são:\n",
        "* m - coeficiente de inclinação da reta\n",
        "* b - intercepto"
      ]
    },
    {
      "cell_type": "code",
      "metadata": {
        "id": "xAiPUs6S4pxg",
        "colab": {
          "base_uri": "https://localhost:8080/"
        },
        "outputId": "5720b429-1fda-4ec4-c70a-d4f2f9a00967"
      },
      "source": [
        "import numpy as np\n",
        "\n",
        "m, b = np.polyfit(x=alunos['Faltas'], y=alunos['Notas'], deg = 1)\n",
        "\n",
        "print(\"inclinação m:\", m)\n",
        "print(\"intercepto b:\", b)"
      ],
      "execution_count": null,
      "outputs": [
        {
          "output_type": "stream",
          "name": "stdout",
          "text": [
            "inclinação m: -0.392412935323383\n",
            "intercepto b: 10.566791044776119\n"
          ]
        }
      ]
    },
    {
      "cell_type": "markdown",
      "metadata": {
        "id": "gtQMo6Ok_TpM"
      },
      "source": [
        "Assim, `polytif()` nos informa que a inclinação (m) = -0.3924 e o intercepto (b) = 10.5667\n",
        "\n",
        "Podemos então escrever a equação da reta como :\n",
        "\n",
        "Y = -0.3924X + 10.5667\n",
        "\n",
        "Verificando a reta do gráfico de dispersão o \"ponto\" mais próximo da reta é X = 12. Outro também bem próximo é X = 6. \n",
        "\n",
        "Vamos então, testar estes valores de X na equação: `Y = -0.3924X + 10.5667`\n",
        "\n"
      ]
    },
    {
      "cell_type": "code",
      "metadata": {
        "id": "8V-PRUgCAX17",
        "colab": {
          "base_uri": "https://localhost:8080/"
        },
        "outputId": "e48828fe-c3f3-40ee-a554-2652f36907b7"
      },
      "source": [
        "# Lembre-e que m e b foram obtidos acima com polifit()\n",
        "x = 12\n",
        "y = m*x+b\n",
        "y"
      ],
      "execution_count": null,
      "outputs": [
        {
          "output_type": "execute_result",
          "data": {
            "text/plain": [
              "5.857835820895523"
            ]
          },
          "metadata": {},
          "execution_count": 38
        }
      ]
    },
    {
      "cell_type": "markdown",
      "metadata": {
        "id": "Wz87fmy5A8ec"
      },
      "source": [
        "Para verificar a precisão deste valor obtido pela equação, precisamo listar os dados de notas e faltas da tabela."
      ]
    },
    {
      "cell_type": "markdown",
      "metadata": {
        "id": "7H5v7nsgBjCO"
      },
      "source": [
        "Note, na tabela acima, que para Faltas = 12, Notas = 5.8, ou seja, bem próximo ao valor obtido pela equação da reta (5.85)"
      ]
    },
    {
      "cell_type": "code",
      "metadata": {
        "id": "BpnPg_5IBV-K",
        "colab": {
          "base_uri": "https://localhost:8080/",
          "height": 269
        },
        "outputId": "ecddeb29-80f5-4135-ee4c-6ad95294ec8c"
      },
      "source": [
        "alunos"
      ],
      "execution_count": null,
      "outputs": [
        {
          "output_type": "execute_result",
          "data": {
            "text/plain": [
              "   Faltas  Notas\n",
              "0       8    7.8\n",
              "1       2    9.2\n",
              "2       5    9.0\n",
              "3      12    5.8\n",
              "4      15    4.3\n",
              "5       9    7.4\n",
              "6       6    8.1"
            ],
            "text/html": [
              "\n",
              "  <div id=\"df-edf773a4-dc72-4b76-8966-5e0bf8a65734\">\n",
              "    <div class=\"colab-df-container\">\n",
              "      <div>\n",
              "<style scoped>\n",
              "    .dataframe tbody tr th:only-of-type {\n",
              "        vertical-align: middle;\n",
              "    }\n",
              "\n",
              "    .dataframe tbody tr th {\n",
              "        vertical-align: top;\n",
              "    }\n",
              "\n",
              "    .dataframe thead th {\n",
              "        text-align: right;\n",
              "    }\n",
              "</style>\n",
              "<table border=\"1\" class=\"dataframe\">\n",
              "  <thead>\n",
              "    <tr style=\"text-align: right;\">\n",
              "      <th></th>\n",
              "      <th>Faltas</th>\n",
              "      <th>Notas</th>\n",
              "    </tr>\n",
              "  </thead>\n",
              "  <tbody>\n",
              "    <tr>\n",
              "      <th>0</th>\n",
              "      <td>8</td>\n",
              "      <td>7.8</td>\n",
              "    </tr>\n",
              "    <tr>\n",
              "      <th>1</th>\n",
              "      <td>2</td>\n",
              "      <td>9.2</td>\n",
              "    </tr>\n",
              "    <tr>\n",
              "      <th>2</th>\n",
              "      <td>5</td>\n",
              "      <td>9.0</td>\n",
              "    </tr>\n",
              "    <tr>\n",
              "      <th>3</th>\n",
              "      <td>12</td>\n",
              "      <td>5.8</td>\n",
              "    </tr>\n",
              "    <tr>\n",
              "      <th>4</th>\n",
              "      <td>15</td>\n",
              "      <td>4.3</td>\n",
              "    </tr>\n",
              "    <tr>\n",
              "      <th>5</th>\n",
              "      <td>9</td>\n",
              "      <td>7.4</td>\n",
              "    </tr>\n",
              "    <tr>\n",
              "      <th>6</th>\n",
              "      <td>6</td>\n",
              "      <td>8.1</td>\n",
              "    </tr>\n",
              "  </tbody>\n",
              "</table>\n",
              "</div>\n",
              "      <button class=\"colab-df-convert\" onclick=\"convertToInteractive('df-edf773a4-dc72-4b76-8966-5e0bf8a65734')\"\n",
              "              title=\"Convert this dataframe to an interactive table.\"\n",
              "              style=\"display:none;\">\n",
              "        \n",
              "  <svg xmlns=\"http://www.w3.org/2000/svg\" height=\"24px\"viewBox=\"0 0 24 24\"\n",
              "       width=\"24px\">\n",
              "    <path d=\"M0 0h24v24H0V0z\" fill=\"none\"/>\n",
              "    <path d=\"M18.56 5.44l.94 2.06.94-2.06 2.06-.94-2.06-.94-.94-2.06-.94 2.06-2.06.94zm-11 1L8.5 8.5l.94-2.06 2.06-.94-2.06-.94L8.5 2.5l-.94 2.06-2.06.94zm10 10l.94 2.06.94-2.06 2.06-.94-2.06-.94-.94-2.06-.94 2.06-2.06.94z\"/><path d=\"M17.41 7.96l-1.37-1.37c-.4-.4-.92-.59-1.43-.59-.52 0-1.04.2-1.43.59L10.3 9.45l-7.72 7.72c-.78.78-.78 2.05 0 2.83L4 21.41c.39.39.9.59 1.41.59.51 0 1.02-.2 1.41-.59l7.78-7.78 2.81-2.81c.8-.78.8-2.07 0-2.86zM5.41 20L4 18.59l7.72-7.72 1.47 1.35L5.41 20z\"/>\n",
              "  </svg>\n",
              "      </button>\n",
              "      \n",
              "  <style>\n",
              "    .colab-df-container {\n",
              "      display:flex;\n",
              "      flex-wrap:wrap;\n",
              "      gap: 12px;\n",
              "    }\n",
              "\n",
              "    .colab-df-convert {\n",
              "      background-color: #E8F0FE;\n",
              "      border: none;\n",
              "      border-radius: 50%;\n",
              "      cursor: pointer;\n",
              "      display: none;\n",
              "      fill: #1967D2;\n",
              "      height: 32px;\n",
              "      padding: 0 0 0 0;\n",
              "      width: 32px;\n",
              "    }\n",
              "\n",
              "    .colab-df-convert:hover {\n",
              "      background-color: #E2EBFA;\n",
              "      box-shadow: 0px 1px 2px rgba(60, 64, 67, 0.3), 0px 1px 3px 1px rgba(60, 64, 67, 0.15);\n",
              "      fill: #174EA6;\n",
              "    }\n",
              "\n",
              "    [theme=dark] .colab-df-convert {\n",
              "      background-color: #3B4455;\n",
              "      fill: #D2E3FC;\n",
              "    }\n",
              "\n",
              "    [theme=dark] .colab-df-convert:hover {\n",
              "      background-color: #434B5C;\n",
              "      box-shadow: 0px 1px 3px 1px rgba(0, 0, 0, 0.15);\n",
              "      filter: drop-shadow(0px 1px 2px rgba(0, 0, 0, 0.3));\n",
              "      fill: #FFFFFF;\n",
              "    }\n",
              "  </style>\n",
              "\n",
              "      <script>\n",
              "        const buttonEl =\n",
              "          document.querySelector('#df-edf773a4-dc72-4b76-8966-5e0bf8a65734 button.colab-df-convert');\n",
              "        buttonEl.style.display =\n",
              "          google.colab.kernel.accessAllowed ? 'block' : 'none';\n",
              "\n",
              "        async function convertToInteractive(key) {\n",
              "          const element = document.querySelector('#df-edf773a4-dc72-4b76-8966-5e0bf8a65734');\n",
              "          const dataTable =\n",
              "            await google.colab.kernel.invokeFunction('convertToInteractive',\n",
              "                                                     [key], {});\n",
              "          if (!dataTable) return;\n",
              "\n",
              "          const docLinkHtml = 'Like what you see? Visit the ' +\n",
              "            '<a target=\"_blank\" href=https://colab.research.google.com/notebooks/data_table.ipynb>data table notebook</a>'\n",
              "            + ' to learn more about interactive tables.';\n",
              "          element.innerHTML = '';\n",
              "          dataTable['output_type'] = 'display_data';\n",
              "          await google.colab.output.renderOutput(dataTable, element);\n",
              "          const docLink = document.createElement('div');\n",
              "          docLink.innerHTML = docLinkHtml;\n",
              "          element.appendChild(docLink);\n",
              "        }\n",
              "      </script>\n",
              "    </div>\n",
              "  </div>\n",
              "  "
            ]
          },
          "metadata": {},
          "execution_count": 39
        }
      ]
    },
    {
      "cell_type": "code",
      "metadata": {
        "id": "Y536YhVgB1qP"
      },
      "source": [
        "#Verificando com x = 6, temos:"
      ],
      "execution_count": null,
      "outputs": []
    },
    {
      "cell_type": "code",
      "metadata": {
        "id": "7t-_KahcA0KU",
        "colab": {
          "base_uri": "https://localhost:8080/"
        },
        "outputId": "e7cbbe93-b814-4bfe-e858-c1f0f337be86"
      },
      "source": [
        "# Lembre-e que m e b foram obtidos acima com polifit()\n",
        "x = 6\n",
        "y = m*x+b\n",
        "y"
      ],
      "execution_count": null,
      "outputs": [
        {
          "output_type": "execute_result",
          "data": {
            "text/plain": [
              "8.21231343283582"
            ]
          },
          "metadata": {},
          "execution_count": 41
        }
      ]
    },
    {
      "cell_type": "markdown",
      "metadata": {
        "id": "4EWrbNzBB7Wf"
      },
      "source": [
        "Note, na tabela acima, que para Faltas = 6, Notas = 8.1, ou seja, bem próximo ao valor obtido pela equação da reta (5.85)"
      ]
    },
    {
      "cell_type": "markdown",
      "metadata": {
        "id": "l7Nj487T7dv_"
      },
      "source": [
        "Usando um valor fora da amostra (`x = 20`), que não consta na tabela, a **Nota Final (Y)** prevista será:"
      ]
    },
    {
      "cell_type": "code",
      "metadata": {
        "id": "zFV4l6J17Asw",
        "colab": {
          "base_uri": "https://localhost:8080/"
        },
        "outputId": "9e428fcc-a269-438c-a4cb-26d44ec0db23"
      },
      "source": [
        "# Lembre-e que m e b foram obtidos acima com polifit()\n",
        "x = 20\n",
        "y = m*x+b\n",
        "y"
      ],
      "execution_count": null,
      "outputs": [
        {
          "output_type": "execute_result",
          "data": {
            "text/plain": [
              "2.718532338308459"
            ]
          },
          "metadata": {},
          "execution_count": 42
        }
      ]
    },
    {
      "cell_type": "markdown",
      "metadata": {
        "id": "WBY9NbrX8Xr-"
      },
      "source": [
        "Pode-se concluir que com ``20 faltas``, a nota final do aluno será `2,7`."
      ]
    },
    {
      "cell_type": "markdown",
      "metadata": {
        "id": "u9L192aN6m4o"
      },
      "source": [
        "### Verificação do Modelo Completo\n",
        "\n",
        "Podemos calcular a Estimativa de **TODAS** as notas da tabela (previsão de Notas) usando equação da reta encontrada. Para tal, basta usar o atributo `\"Faltas\"`, no lugar de `\"x\"`, conforme abaixo. \n",
        "\n",
        "O que ocorre de fato é que a instrução `m*alunos.[\"Faltas\"]+b` calcula o valor estimado para cada linha da tabela, gerando um **Conjunto de Valores**, ao invés de um único valor como fizemos acima para x=6 e x=20."
      ]
    },
    {
      "cell_type": "code",
      "metadata": {
        "id": "TBKFg7Bg61vX",
        "colab": {
          "base_uri": "https://localhost:8080/"
        },
        "outputId": "7d671852-dd3a-45da-8464-f3b9dccc3a97"
      },
      "source": [
        "m, b = np.polyfit(x=alunos['Faltas'], y=alunos['Notas'], deg = 1)\n",
        "modelo = m*alunos[\"Faltas\"]+b\n",
        "print(modelo)"
      ],
      "execution_count": null,
      "outputs": [
        {
          "output_type": "stream",
          "name": "stdout",
          "text": [
            "0    7.427488\n",
            "1    9.781965\n",
            "2    8.604726\n",
            "3    5.857836\n",
            "4    4.680597\n",
            "5    7.035075\n",
            "6    8.212313\n",
            "Name: Faltas, dtype: float64\n"
          ]
        }
      ]
    },
    {
      "cell_type": "markdown",
      "metadata": {
        "id": "g9xq7KG5-RJd"
      },
      "source": [
        "Note que print(modelo) mostrou todos os valores armazenados em modelo. Note também que \"Name\" última linha foi automaticamente assumido como \"Faltas\", mas nada verdade isso é \"Notas Estimadas\". Podemos \"renomear\" isso com a função `rename()`. Vejamos!"
      ]
    },
    {
      "cell_type": "code",
      "metadata": {
        "id": "D5DR1cef8cd0",
        "colab": {
          "base_uri": "https://localhost:8080/"
        },
        "outputId": "fc5c0b97-0e10-43a9-eb0e-390ff9a170ce"
      },
      "source": [
        "modelo = modelo.rename('NotasEstimadas')\n",
        "print(modelo)"
      ],
      "execution_count": null,
      "outputs": [
        {
          "output_type": "stream",
          "name": "stdout",
          "text": [
            "0    7.427488\n",
            "1    9.781965\n",
            "2    8.604726\n",
            "3    5.857836\n",
            "4    4.680597\n",
            "5    7.035075\n",
            "6    8.212313\n",
            "Name: NotasEstimadas, dtype: float64\n"
          ]
        }
      ]
    },
    {
      "cell_type": "markdown",
      "metadata": {
        "id": "tuCYPL6w9_9K"
      },
      "source": [
        "Note que agora o \"Name\" (última linha acima) é \"NotasEstimadas\" (e não Faltas).\n",
        "\n",
        "Isso (renomear) foi importante pois agora queremos **exibir lado a lado** \"Faltas\" (da tabela original) com as Faltas Estimadas para verificar o modelo, ou seja, se os valores estimados são de fato bem próximos."
      ]
    },
    {
      "cell_type": "markdown",
      "metadata": {
        "id": "qibfwvsSADWb"
      },
      "source": [
        "Uma forma de exigir lado a lado é \"juntar\" as duas colunas a exibir, em um novo DATAFRAME (nova tabela), usando a função DATAFRAME, conforme abaixo. Neste exemplo, chamei a nova tabela de `compara`."
      ]
    },
    {
      "cell_type": "code",
      "metadata": {
        "id": "zN7JYpFB5oB5",
        "colab": {
          "base_uri": "https://localhost:8080/"
        },
        "outputId": "bfa31ce0-b03e-401e-8077-98e4ffdfe197"
      },
      "source": [
        "compara = pd.DataFrame([alunos.Notas, modelo])\n",
        "print(compara)"
      ],
      "execution_count": null,
      "outputs": [
        {
          "output_type": "stream",
          "name": "stdout",
          "text": [
            "                       0         1         2         3         4         5  \\\n",
            "Notas           7.800000  9.200000  9.000000  5.800000  4.300000  7.400000   \n",
            "NotasEstimadas  7.427488  9.781965  8.604726  5.857836  4.680597  7.035075   \n",
            "\n",
            "                       6  \n",
            "Notas           8.100000  \n",
            "NotasEstimadas  8.212313  \n"
          ]
        }
      ]
    },
    {
      "cell_type": "markdown",
      "metadata": {
        "id": "pGPoc4nc_6JF"
      },
      "source": [
        "Note que DATAFRAME gerou a nova tabela \"invertida\", ou seja, as colunas `Notas` e `NotasEstimadas` viraram \"Linhas\". Para resolver isso vamos gerar a `compara` novamente, mas agora usando a função `transpose()` conforme abaixo."
      ]
    },
    {
      "cell_type": "code",
      "metadata": {
        "id": "5u6u7BuQBOvv",
        "colab": {
          "base_uri": "https://localhost:8080/"
        },
        "outputId": "94a6c4f4-fa35-47fb-aa8e-d6fe70d10f33"
      },
      "source": [
        "compara = pd.DataFrame([alunos.Notas, modelo]).transpose()\n",
        "print(compara)"
      ],
      "execution_count": null,
      "outputs": [
        {
          "output_type": "stream",
          "name": "stdout",
          "text": [
            "   Notas  NotasEstimadas\n",
            "0    7.8        7.427488\n",
            "1    9.2        9.781965\n",
            "2    9.0        8.604726\n",
            "3    5.8        5.857836\n",
            "4    4.3        4.680597\n",
            "5    7.4        7.035075\n",
            "6    8.1        8.212313\n"
          ]
        }
      ]
    },
    {
      "cell_type": "markdown",
      "metadata": {
        "id": "r61jpsJWBrv0"
      },
      "source": [
        "Agora, podemos olhar para cada Nota e NotaEstimada, lado a lado. Note que o modelo (notas estimadas), gerado pela equação da reta, possui valores  próximos em todas as linhas. Por exemplo, na última linha, para `Nota=8.1` temos `NotaEstimada=8.21` a partir da quantidade de faltas.\n",
        "\n",
        "Não podemos esquecer que o o coeficiente de correlação entre \"Faltas\" e \"Notas\" foi de `-0.9747`, ou seja, muito forte, mas não foi exatamente 1."
      ]
    },
    {
      "cell_type": "markdown",
      "metadata": {
        "id": "jqLwD2CICjvt"
      },
      "source": [
        "Aliás, parece estranho olhar para um número negativo (`-0.9741`) e enxergar isto como correlação forte.\n",
        "\n",
        "O conceito de **Coeficiente de Determinação** ajuda a lidar melhor com isso. Vejamos."
      ]
    },
    {
      "cell_type": "markdown",
      "metadata": {
        "id": "Q9lWA2uaC40U"
      },
      "source": [
        "### Coeficiente de Determinação"
      ]
    },
    {
      "cell_type": "markdown",
      "metadata": {
        "id": "TsSpvesrEK7w"
      },
      "source": [
        "O coeficiente de determinação ($R^2$) é definido como a relação que mede a proporção da variação total da **variável dependente**, que é explicada pela variação da **variável independente**.\n",
        "\n",
        "* O coeficiente de determinação (de Pearson) é o **quadrado do coeficiente de correlação**;\n",
        "* O coeficiente de determinação $R^2$, também denominado `r-quadrado`, é sempre um número positivo dentro do intervalo [0; 1].\n",
        "* Pode-se deduzir que quanto maior for $R^2$ melhor será o poder de explicação da reta de regressão.\n"
      ]
    },
    {
      "cell_type": "markdown",
      "metadata": {
        "id": "_sFsXnTYHDxw"
      },
      "source": [
        "Relembremos o coeficiente de correlação para então calcularmos o coeficiente de determinação.\n"
      ]
    },
    {
      "cell_type": "code",
      "metadata": {
        "id": "Dsd7rXG5GoZH",
        "colab": {
          "base_uri": "https://localhost:8080/"
        },
        "outputId": "ded0a903-bd2a-4801-cd18-c61a02fe55a1"
      },
      "source": [
        "ccor = alunos['Faltas'].corr(alunos['Notas'])\n",
        "print(\"Coeficiente de Correlação\", ccor)"
      ],
      "execution_count": null,
      "outputs": [
        {
          "output_type": "stream",
          "name": "stdout",
          "text": [
            "Coeficiente de Correlação -0.9747632142351271\n"
          ]
        }
      ]
    },
    {
      "cell_type": "markdown",
      "metadata": {
        "id": "x_hDe805H7Ms"
      },
      "source": [
        "Para calcular o coeficiente de determinação basta elevar o coeficiente de correlação ao quadrado usando o operador `**`."
      ]
    },
    {
      "cell_type": "code",
      "metadata": {
        "id": "5wLpt1aOHNor",
        "colab": {
          "base_uri": "https://localhost:8080/"
        },
        "outputId": "16540874-845a-42ae-e1d5-6686af95494d"
      },
      "source": [
        "cdet = ccor**2\n",
        "print(\"Coeficiente de determinação: \", cdet)"
      ],
      "execution_count": null,
      "outputs": [
        {
          "output_type": "stream",
          "name": "stdout",
          "text": [
            "Coeficiente de determinação:  0.9501633238259963\n"
          ]
        }
      ]
    },
    {
      "cell_type": "markdown",
      "metadata": {
        "id": "nSsjMUNAIPak"
      },
      "source": [
        "O valor obtido de `0.95` como coeficiente de determinação significa que (...):\n",
        "* (...) cerca de 5% da variabilidade da \"Nota\" (final) não pode ser descrita ou explicada pela variabilidade do número de Faltas (por semestre) e vice-versa.\n"
      ]
    },
    {
      "cell_type": "markdown",
      "metadata": {
        "id": "xa5ImgNEI8qL"
      },
      "source": [
        "Na prática, é pouco comum que tenhamos uma correlação perfeita $R^2=1$\n",
        "pois existem muitos fatores que determinam as relações entre variáveis na vida real.\n"
      ]
    },
    {
      "cell_type": "markdown",
      "metadata": {
        "id": "4DJhtWudCeIq"
      },
      "source": [
        "## Exercícios"
      ]
    },
    {
      "cell_type": "markdown",
      "metadata": {
        "id": "Byroa19BCi_J"
      },
      "source": [
        "### Exercícios 01\n",
        "\n",
        "Tente estima quanto seria a NOTA de um aluno com 1 falta"
      ]
    },
    {
      "cell_type": "code",
      "metadata": {
        "id": "O1_1LJH38N6c"
      },
      "source": [
        "#digite sua resposta aqui"
      ],
      "execution_count": null,
      "outputs": []
    },
    {
      "cell_type": "markdown",
      "metadata": {
        "id": "cR1lu3oA4st4"
      },
      "source": [
        "## Extra"
      ]
    },
    {
      "cell_type": "markdown",
      "metadata": {
        "id": "-tCUjy7O8OBe"
      },
      "source": [
        "### Entrada de Dados [1]"
      ]
    },
    {
      "cell_type": "markdown",
      "metadata": {
        "id": "Pz6rmFXr5LEg"
      },
      "source": [
        "Em python, a função input() é usada para a realizar a entrada de dados. Utilizamos **entrada de dados** quando precisamos que o usuário digite uma informação para ser processada."
      ]
    },
    {
      "cell_type": "markdown",
      "metadata": {
        "id": "qWEws8Q38u6M"
      },
      "source": [
        "Por exemplo, podemos perguntar o valor de \"faltas\" para o qual o usuário gostaria de fazer a predição de \"notas\". Vide exemplo a seguir."
      ]
    },
    {
      "cell_type": "code",
      "metadata": {
        "id": "jugy4Qkm87lw",
        "colab": {
          "base_uri": "https://localhost:8080/"
        },
        "outputId": "15c490c3-fa54-4b20-b70e-441316ca74a7"
      },
      "source": [
        "x = input()"
      ],
      "execution_count": null,
      "outputs": [
        {
          "name": "stdout",
          "output_type": "stream",
          "text": [
            "20\n"
          ]
        }
      ]
    },
    {
      "cell_type": "markdown",
      "metadata": {
        "id": "yE7lBztj9-jH"
      },
      "source": [
        "Vamos \"printar\" este valor digitado pelo usuário, apenas para conferir"
      ]
    },
    {
      "cell_type": "code",
      "metadata": {
        "id": "b1SigQom-JYS",
        "colab": {
          "base_uri": "https://localhost:8080/",
          "height": 166
        },
        "outputId": "f8aa1783-57ae-4dd2-a525-06976de9446f"
      },
      "source": [
        "print(\"%.2f\" % x)"
      ],
      "execution_count": null,
      "outputs": [
        {
          "output_type": "error",
          "ename": "TypeError",
          "evalue": "ignored",
          "traceback": [
            "\u001b[0;31m---------------------------------------------------------------------------\u001b[0m",
            "\u001b[0;31mTypeError\u001b[0m                                 Traceback (most recent call last)",
            "\u001b[0;32m<ipython-input-52-94417f3b16ea>\u001b[0m in \u001b[0;36m<module>\u001b[0;34m()\u001b[0m\n\u001b[0;32m----> 1\u001b[0;31m \u001b[0mprint\u001b[0m\u001b[0;34m(\u001b[0m\u001b[0;34m\"%.2f\"\u001b[0m \u001b[0;34m%\u001b[0m \u001b[0mx\u001b[0m\u001b[0;34m)\u001b[0m\u001b[0;34m\u001b[0m\u001b[0;34m\u001b[0m\u001b[0m\n\u001b[0m",
            "\u001b[0;31mTypeError\u001b[0m: must be real number, not str"
          ]
        }
      ]
    },
    {
      "cell_type": "markdown",
      "metadata": {
        "id": "mnr5O7Jr-QUH"
      },
      "source": [
        "A mensagem acima, mostra uma mensagem de erro : `must be real number, not str` (em português: deve ser número real, não texto)"
      ]
    },
    {
      "cell_type": "markdown",
      "metadata": {
        "id": "ydDxtSKp-ak_"
      },
      "source": [
        "Isto ocorre porque o input() armazena tudo que o usuário digita como se fosse \"texto\" (caracteres alfanuméricos). \n",
        "Acima estamos solicitando a impressão (print) de `x` como número real: `%.2f`.\n",
        "Quando solicitamos a digitação de números devemos converter o que foi digitado pra número. Se for um número real, usamos a instrução float(input()) conforme abaixo:"
      ]
    },
    {
      "cell_type": "code",
      "metadata": {
        "id": "ZjFJSYR2-3ad",
        "colab": {
          "base_uri": "https://localhost:8080/"
        },
        "outputId": "422f2c7e-22a0-4f4b-de9d-69376edc7531"
      },
      "source": [
        "x = float(input())"
      ],
      "execution_count": null,
      "outputs": [
        {
          "name": "stdout",
          "output_type": "stream",
          "text": [
            "20\n"
          ]
        }
      ]
    },
    {
      "cell_type": "code",
      "metadata": {
        "id": "C9AeEDjC_Bas",
        "colab": {
          "base_uri": "https://localhost:8080/"
        },
        "outputId": "6d8dc38f-07b5-438e-fd82-31130660a6dc"
      },
      "source": [
        "print(\"%.2f\" % x)"
      ],
      "execution_count": null,
      "outputs": [
        {
          "output_type": "stream",
          "name": "stdout",
          "text": [
            "20.00\n"
          ]
        }
      ]
    },
    {
      "cell_type": "markdown",
      "metadata": {
        "id": "RSW5Hohb_Dt3"
      },
      "source": [
        "Note que agora o print (com %.2f que indica um número real com duas casas decimais) foi impresso normalmente (sem mensagem de erro)."
      ]
    },
    {
      "cell_type": "markdown",
      "metadata": {
        "id": "EXpgj9mT_q18"
      },
      "source": [
        "Podemos ainda fazer isso em duas etapas:\n",
        "* x = input()\n",
        "* x = float(x)"
      ]
    },
    {
      "cell_type": "code",
      "metadata": {
        "id": "vY2S2K5M_v3q",
        "colab": {
          "base_uri": "https://localhost:8080/"
        },
        "outputId": "8a33cc33-6a8e-4525-ae82-fa39d96bbe79"
      },
      "source": [
        "x = input()\n",
        "x = float(x)\n",
        "print(\"%.2f\" % x)\n"
      ],
      "execution_count": null,
      "outputs": [
        {
          "output_type": "stream",
          "name": "stdout",
          "text": [
            "20\n",
            "20.00\n"
          ]
        }
      ]
    },
    {
      "cell_type": "markdown",
      "metadata": {
        "id": "Cj2_2Mhb9v-B"
      },
      "source": [
        "Agora já podemos usar o x (float, ou seja, número real) para fazer cálculos conforme abaixo:\n"
      ]
    },
    {
      "cell_type": "code",
      "metadata": {
        "id": "F6pDBLzr9viC",
        "colab": {
          "base_uri": "https://localhost:8080/"
        },
        "outputId": "d2192904-b904-4c21-87ed-be1505643d7e"
      },
      "source": [
        "x = float(input())\n",
        "y = m*x+b\n",
        "print(\"A predição de Nota para \", x, \" faltas é = %.2f\" % y)"
      ],
      "execution_count": null,
      "outputs": [
        {
          "output_type": "stream",
          "name": "stdout",
          "text": [
            "2\n",
            "A predição de Nota para  2.0  faltas é = 9.78\n"
          ]
        }
      ]
    },
    {
      "cell_type": "markdown",
      "metadata": {
        "id": "6lo3qWMCA6i8"
      },
      "source": [
        "Execute novamente a célula acima, digitando outro valor para x, e veja o resultado. As instruções funcionam para qualquer valor de x informado."
      ]
    },
    {
      "cell_type": "markdown",
      "metadata": {
        "id": "w9Fh4tVZiKJ1"
      },
      "source": [
        "## Completo"
      ]
    },
    {
      "cell_type": "code",
      "metadata": {
        "id": "LdWuGQJGiAJh",
        "colab": {
          "base_uri": "https://localhost:8080/"
        },
        "outputId": "c9e60c5b-c4fb-4ebb-f56c-917bb1a4cc19"
      },
      "source": [
        "import pandas as pd \n",
        "codigo = \"1tUCrugG4okAM9x5oRMDskqMxlDbblFEF\"\n",
        "file = \"https://drive.google.com/u/3/uc?id=\" + codigo + \"&export=download\"\n",
        "alunos = pd.read_csv(file, sep = \";\",decimal=\",\")\n",
        "import numpy as np\n",
        "m, b = np.polyfit(x=alunos['Faltas'], y=alunos['Notas'], deg = 1)\n",
        "x = input(\"Digite Faltas: \")\n",
        "x = float(x)\n",
        "y = m*x+b\n",
        "print(\"A predição de Nota para \", x, \" faltas é = %.2f\" % y)"
      ],
      "execution_count": null,
      "outputs": [
        {
          "output_type": "stream",
          "name": "stdout",
          "text": [
            "Digite Faltas: 20\n",
            "A predição de Nota para  20.0  faltas é = 2.72\n"
          ]
        }
      ]
    }
  ]
}