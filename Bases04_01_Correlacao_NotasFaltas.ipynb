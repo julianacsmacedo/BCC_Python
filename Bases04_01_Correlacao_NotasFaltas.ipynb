{
  "nbformat": 4,
  "nbformat_minor": 0,
  "metadata": {
    "colab": {
      "name": "Bases04_01_Correlacao_NotasFaltas.ipynb",
      "provenance": [],
      "collapsed_sections": [
        "mlvMZWFCZZ6x",
        "6-Kclw-sH_-o"
      ],
      "toc_visible": true,
      "include_colab_link": true
    },
    "kernelspec": {
      "name": "python3",
      "display_name": "Python 3"
    }
  },
  "cells": [
    {
      "cell_type": "markdown",
      "metadata": {
        "id": "view-in-github",
        "colab_type": "text"
      },
      "source": [
        "<a href=\"https://colab.research.google.com/github/julianacsmacedo/BCC_Python/blob/main/Bases04_01_Correlacao_NotasFaltas.ipynb\" target=\"_parent\"><img src=\"https://colab.research.google.com/assets/colab-badge.svg\" alt=\"Open In Colab\"/></a>"
      ]
    },
    {
      "cell_type": "markdown",
      "metadata": {
        "id": "6mXSEWvGj5vI"
      },
      "source": [
        "#**Correlação e Regressão (Parte 1)**\n"
      ]
    },
    {
      "cell_type": "markdown",
      "metadata": {
        "id": "GfYWB1ZQhhbL"
      },
      "source": [
        "\n",
        "```\n",
        "(*) Adaptado de material preparado pelo Prof. Wagner Tanaka\n",
        "```\n"
      ]
    },
    {
      "cell_type": "markdown",
      "metadata": {
        "id": "XrpIEmUIh9hm"
      },
      "source": [
        "Neste caderno vamos a explorar aspéctos de correlação e regressão em dados.\n",
        "\n",
        "Analisar aspéctos de **\"causa e dependência\"** entre variáveis observadas é inerente à prática da ciência. A a computação pode ajudar bastante com isso. Em resumo:\n",
        "\n",
        "* Correlação: resume o grau de relacionamento entre duas variáveis (X e Y, por exemplo). \n",
        "* Regressão: tem como resultado uma equação matemática que descreve o relacionamento entre variáveis.\n",
        "\n",
        "É importante destacar que **correlação não necessariamente implica em causalidade**.\n"
      ]
    },
    {
      "cell_type": "markdown",
      "metadata": {
        "id": "C9bbrsiRkkfa"
      },
      "source": [
        "## Base de dados de Notas e Faltas"
      ]
    },
    {
      "cell_type": "markdown",
      "metadata": {
        "id": "3JHViFpZkfzO"
      },
      "source": [
        "Antes de conhecer as funções da linguagem python para apoiar os cálculos e análises de correlação e regressão precisamos carregar e explorar a base de dados que vamos utilizar para os cálculos.\n",
        "\n",
        "As instruções a seguir carregam uma base de dados de ESTUDANTES contendo duas  informações: Notas e Faltas."
      ]
    },
    {
      "cell_type": "code",
      "metadata": {
        "id": "o7beWVenlZww",
        "outputId": "f8715d12-95e2-463f-f1d7-4f1e5140725d",
        "colab": {
          "base_uri": "https://localhost:8080/",
          "height": 260
        }
      },
      "source": [
        "#https://drive.google.com/file/d/1tUCrugG4okAM9x5oRMDskqMxlDbblFEF/view?usp=sharing\n",
        "import pandas as pd \n",
        "codigo = \"1tUCrugG4okAM9x5oRMDskqMxlDbblFEF\"\n",
        "file = \"https://drive.google.com/u/3/uc?id=\" + codigo + \"&export=download\"\n",
        "# Note a especificação de SEPARADOR (ponto e vírgula)\n",
        "# Note a especificação de VÍRGULA DECIMAL\n",
        "alunos = pd.read_csv(file, sep = \";\",decimal=\",\")\n",
        "alunos"
      ],
      "execution_count": null,
      "outputs": [
        {
          "output_type": "execute_result",
          "data": {
            "text/html": [
              "<div>\n",
              "<style scoped>\n",
              "    .dataframe tbody tr th:only-of-type {\n",
              "        vertical-align: middle;\n",
              "    }\n",
              "\n",
              "    .dataframe tbody tr th {\n",
              "        vertical-align: top;\n",
              "    }\n",
              "\n",
              "    .dataframe thead th {\n",
              "        text-align: right;\n",
              "    }\n",
              "</style>\n",
              "<table border=\"1\" class=\"dataframe\">\n",
              "  <thead>\n",
              "    <tr style=\"text-align: right;\">\n",
              "      <th></th>\n",
              "      <th>Faltas</th>\n",
              "      <th>Notas</th>\n",
              "    </tr>\n",
              "  </thead>\n",
              "  <tbody>\n",
              "    <tr>\n",
              "      <th>0</th>\n",
              "      <td>8</td>\n",
              "      <td>7.8</td>\n",
              "    </tr>\n",
              "    <tr>\n",
              "      <th>1</th>\n",
              "      <td>2</td>\n",
              "      <td>9.2</td>\n",
              "    </tr>\n",
              "    <tr>\n",
              "      <th>2</th>\n",
              "      <td>5</td>\n",
              "      <td>9.0</td>\n",
              "    </tr>\n",
              "    <tr>\n",
              "      <th>3</th>\n",
              "      <td>12</td>\n",
              "      <td>5.8</td>\n",
              "    </tr>\n",
              "    <tr>\n",
              "      <th>4</th>\n",
              "      <td>15</td>\n",
              "      <td>4.3</td>\n",
              "    </tr>\n",
              "    <tr>\n",
              "      <th>5</th>\n",
              "      <td>9</td>\n",
              "      <td>7.4</td>\n",
              "    </tr>\n",
              "    <tr>\n",
              "      <th>6</th>\n",
              "      <td>6</td>\n",
              "      <td>8.1</td>\n",
              "    </tr>\n",
              "  </tbody>\n",
              "</table>\n",
              "</div>"
            ],
            "text/plain": [
              "   Faltas  Notas\n",
              "0       8    7.8\n",
              "1       2    9.2\n",
              "2       5    9.0\n",
              "3      12    5.8\n",
              "4      15    4.3\n",
              "5       9    7.4\n",
              "6       6    8.1"
            ]
          },
          "metadata": {
            "tags": []
          },
          "execution_count": 2
        }
      ]
    },
    {
      "cell_type": "markdown",
      "metadata": {
        "id": "HEkqZgzdl_FA"
      },
      "source": [
        "`info()` e `describe()` podem ser utilizados para explorar os dados. Note que esta tabela contém apenas 7 linhas."
      ]
    },
    {
      "cell_type": "code",
      "metadata": {
        "id": "M2-3GtkWl0SX",
        "outputId": "5f177370-7b84-49de-ca7c-9afddbec2392",
        "colab": {
          "base_uri": "https://localhost:8080/",
          "height": 175
        }
      },
      "source": [
        "alunos.info()"
      ],
      "execution_count": null,
      "outputs": [
        {
          "output_type": "stream",
          "text": [
            "<class 'pandas.core.frame.DataFrame'>\n",
            "RangeIndex: 7 entries, 0 to 6\n",
            "Data columns (total 2 columns):\n",
            " #   Column  Non-Null Count  Dtype  \n",
            "---  ------  --------------  -----  \n",
            " 0   Faltas  7 non-null      int64  \n",
            " 1   Notas   7 non-null      float64\n",
            "dtypes: float64(1), int64(1)\n",
            "memory usage: 240.0 bytes\n"
          ],
          "name": "stdout"
        }
      ]
    },
    {
      "cell_type": "code",
      "metadata": {
        "id": "oRl4GzEYl57E",
        "outputId": "91dc0976-aa09-4e18-a697-733acb51dd95",
        "colab": {
          "base_uri": "https://localhost:8080/",
          "height": 290
        }
      },
      "source": [
        "alunos.describe()"
      ],
      "execution_count": null,
      "outputs": [
        {
          "output_type": "execute_result",
          "data": {
            "text/html": [
              "<div>\n",
              "<style scoped>\n",
              "    .dataframe tbody tr th:only-of-type {\n",
              "        vertical-align: middle;\n",
              "    }\n",
              "\n",
              "    .dataframe tbody tr th {\n",
              "        vertical-align: top;\n",
              "    }\n",
              "\n",
              "    .dataframe thead th {\n",
              "        text-align: right;\n",
              "    }\n",
              "</style>\n",
              "<table border=\"1\" class=\"dataframe\">\n",
              "  <thead>\n",
              "    <tr style=\"text-align: right;\">\n",
              "      <th></th>\n",
              "      <th>Faltas</th>\n",
              "      <th>Notas</th>\n",
              "    </tr>\n",
              "  </thead>\n",
              "  <tbody>\n",
              "    <tr>\n",
              "      <th>count</th>\n",
              "      <td>7.000000</td>\n",
              "      <td>7.000000</td>\n",
              "    </tr>\n",
              "    <tr>\n",
              "      <th>mean</th>\n",
              "      <td>8.142857</td>\n",
              "      <td>7.371429</td>\n",
              "    </tr>\n",
              "    <tr>\n",
              "      <th>std</th>\n",
              "      <td>4.375255</td>\n",
              "      <td>1.761358</td>\n",
              "    </tr>\n",
              "    <tr>\n",
              "      <th>min</th>\n",
              "      <td>2.000000</td>\n",
              "      <td>4.300000</td>\n",
              "    </tr>\n",
              "    <tr>\n",
              "      <th>25%</th>\n",
              "      <td>5.500000</td>\n",
              "      <td>6.600000</td>\n",
              "    </tr>\n",
              "    <tr>\n",
              "      <th>50%</th>\n",
              "      <td>8.000000</td>\n",
              "      <td>7.800000</td>\n",
              "    </tr>\n",
              "    <tr>\n",
              "      <th>75%</th>\n",
              "      <td>10.500000</td>\n",
              "      <td>8.550000</td>\n",
              "    </tr>\n",
              "    <tr>\n",
              "      <th>max</th>\n",
              "      <td>15.000000</td>\n",
              "      <td>9.200000</td>\n",
              "    </tr>\n",
              "  </tbody>\n",
              "</table>\n",
              "</div>"
            ],
            "text/plain": [
              "          Faltas     Notas\n",
              "count   7.000000  7.000000\n",
              "mean    8.142857  7.371429\n",
              "std     4.375255  1.761358\n",
              "min     2.000000  4.300000\n",
              "25%     5.500000  6.600000\n",
              "50%     8.000000  7.800000\n",
              "75%    10.500000  8.550000\n",
              "max    15.000000  9.200000"
            ]
          },
          "metadata": {
            "tags": []
          },
          "execution_count": 13
        }
      ]
    },
    {
      "cell_type": "markdown",
      "metadata": {
        "id": "l1GCmzY5Qls2"
      },
      "source": [
        "Analisando a base de dados, pode-se definir que:\n",
        "\n",
        "1.   `Faltas por Semestre (X)` é a **Variável Independente**, pois o seu valor, em tese, não é influenciado pelo atributo `Nota Final (Y)`; \n",
        "2.    `Nota Final (Y)` é a **Variável Dependente**, pois pode ser influenciada pela quantidade de `Faltas por Semestre (X)`.\n",
        "\n",
        "Portanto, a `Nota Final (Y)` é a variável que será prevista.\n",
        "\n",
        "**[Observação]:** Quando dizemos que, **em tese** o valor de `Faltas` não é influenciado pela `Nota Final` estamos fazendo uma suposição. Um aluno poderia \"começar a faltar mais\" (abandonar), por obter notas intermediárias baixas. Como a base de dados não possiu as \"notas parciais\" e nem sabemos como o professor calculou a \"Nota Final\" só podemos fazer suposições."
      ]
    },
    {
      "cell_type": "markdown",
      "metadata": {
        "id": "VGMhoUy9nddj"
      },
      "source": [
        "### Coeficiente de Correlação e seus significados\n",
        "A análise de correlação tem como resultado um número entre [-1 e 1], denominado de **COEFICIENTE DE CORRELAÇÃO**  que expressa o grau de relacionamento entre duas variáveis. Quanto mais distante do zero, mas significativa é a correlação, que pode ser **NEGATIVA** ou **POSITIVA**."
      ]
    },
    {
      "cell_type": "markdown",
      "metadata": {
        "id": "oqkZ_IAOufe5"
      },
      "source": [
        "A seguir, a interpretação da correlação, independente do sinal (positivo ou negativo)\n",
        "* 0.00 a 0.19 - Correlação bem fraca.\n",
        "* 0.20 a 0.39 - Correlação fraca.\n",
        "* 0.40 a 0.69 - Correlação moderada.\n",
        "* 0.70 a 0.89 - Correlação forte.\n",
        "* 0.90 a 1.00 - Correlação muito forte."
      ]
    },
    {
      "cell_type": "markdown",
      "metadata": {
        "id": "A6_YjUsMncz7"
      },
      "source": [
        "## Matriz de Correlação\n",
        "\n",
        "No Pandas temos a função `corr()` que calcula o índice de correlação entre duas variáveis. A instrução a seguir, calcula a correlação entre todos os atributos da tabela gerando uma matriz de correlações. Como esta tabela possui apenas duas colunas (dois atributos) a matriz é simples, envolvendo apenas uma variável dependente e uma independente."
      ]
    },
    {
      "cell_type": "code",
      "metadata": {
        "id": "gY59FM5AvF-4",
        "outputId": "d7090b5b-7900-4891-a771-0521963ed918",
        "colab": {
          "base_uri": "https://localhost:8080/",
          "height": 108
        }
      },
      "source": [
        "alunos.corr()"
      ],
      "execution_count": null,
      "outputs": [
        {
          "output_type": "execute_result",
          "data": {
            "text/html": [
              "<div>\n",
              "<style scoped>\n",
              "    .dataframe tbody tr th:only-of-type {\n",
              "        vertical-align: middle;\n",
              "    }\n",
              "\n",
              "    .dataframe tbody tr th {\n",
              "        vertical-align: top;\n",
              "    }\n",
              "\n",
              "    .dataframe thead th {\n",
              "        text-align: right;\n",
              "    }\n",
              "</style>\n",
              "<table border=\"1\" class=\"dataframe\">\n",
              "  <thead>\n",
              "    <tr style=\"text-align: right;\">\n",
              "      <th></th>\n",
              "      <th>Faltas</th>\n",
              "      <th>Notas</th>\n",
              "    </tr>\n",
              "  </thead>\n",
              "  <tbody>\n",
              "    <tr>\n",
              "      <th>Faltas</th>\n",
              "      <td>1.000000</td>\n",
              "      <td>-0.974763</td>\n",
              "    </tr>\n",
              "    <tr>\n",
              "      <th>Notas</th>\n",
              "      <td>-0.974763</td>\n",
              "      <td>1.000000</td>\n",
              "    </tr>\n",
              "  </tbody>\n",
              "</table>\n",
              "</div>"
            ],
            "text/plain": [
              "          Faltas     Notas\n",
              "Faltas  1.000000 -0.974763\n",
              "Notas  -0.974763  1.000000"
            ]
          },
          "metadata": {
            "tags": []
          },
          "execution_count": 19
        }
      ]
    },
    {
      "cell_type": "markdown",
      "metadata": {
        "id": "BV5gCgFtvjS0"
      },
      "source": [
        "## Coeficiente de Correlação entre dois atributos\n",
        "\n",
        "Podemos também especificar os atributos específicos que desejamos utilizar no cálculo, passando-os como parâmetro conforme abaixo. "
      ]
    },
    {
      "cell_type": "code",
      "metadata": {
        "id": "bmSqTgktqCxw",
        "outputId": "4e0fc50f-1c6f-4acd-fb71-449b4f0ca6e9",
        "colab": {
          "base_uri": "https://localhost:8080/",
          "height": 34
        }
      },
      "source": [
        "alunos['Faltas'].corr(alunos['Notas'])"
      ],
      "execution_count": null,
      "outputs": [
        {
          "output_type": "execute_result",
          "data": {
            "text/plain": [
              "-0.9747632142351271"
            ]
          },
          "metadata": {
            "tags": []
          },
          "execution_count": 18
        }
      ]
    },
    {
      "cell_type": "markdown",
      "metadata": {
        "id": "MH7z-owjxPt2"
      },
      "source": [
        "O coeficiente de correlação é **NEGATIVO** e próximo de **-1**. Portanto, os dois atributos **Faltas por Semestre (X)** e **Nota Final (Y)** possuem **FORTE** correlação **NEGATIVA** (acima de 0.89 é considerada FORTE). "
      ]
    },
    {
      "cell_type": "markdown",
      "metadata": {
        "id": "HCEuJ6h79Ait"
      },
      "source": [
        "### Gráfico ou Diagrama de Dispersão"
      ]
    },
    {
      "cell_type": "markdown",
      "metadata": {
        "id": "xF0hmnF2Hxlm"
      },
      "source": [
        "Utilizamos a função plot() para plotar um gráfico. \n",
        "* O parâmetro kind = 'scatter' indica que o gráfico a ser mostrado é do tipo \"dispersão\".\n",
        "* Os parâmetros x e y indicam as variáveis independente e dependente, respectivamente."
      ]
    },
    {
      "cell_type": "markdown",
      "metadata": {
        "id": "5LJ5x0BLKjh0"
      },
      "source": [
        "No gráfico de dispersão os **pontos** são os dados reais da base de dados."
      ]
    },
    {
      "cell_type": "code",
      "metadata": {
        "id": "sRlvsaBFHByA",
        "outputId": "f68d9ba9-a540-4486-cce2-9af2261968bf",
        "colab": {
          "base_uri": "https://localhost:8080/",
          "height": 296
        }
      },
      "source": [
        "# x é a variável independente e y a dependente\n",
        "alunos.plot(x='Faltas', y= 'Notas', kind='scatter')"
      ],
      "execution_count": null,
      "outputs": [
        {
          "output_type": "execute_result",
          "data": {
            "text/plain": [
              "<matplotlib.axes._subplots.AxesSubplot at 0x7f4ebcf39be0>"
            ]
          },
          "metadata": {
            "tags": []
          },
          "execution_count": 3
        },
        {
          "output_type": "display_data",
          "data": {
            "image/png": "[encoded data removed]",
            "text/plain": [
              "<Figure size 432x288 with 1 Axes>"
            ]
          },
          "metadata": {
            "tags": [],
            "needs_background": "light"
          }
        }
      ]
    },
    {
      "cell_type": "markdown",
      "metadata": {
        "id": "mQ3EYtFnFde8"
      },
      "source": [
        "Para criar um gráfico de dispersão mais elaborado utilizaremos a biblioteca [**Seaborn**](https://seaborn.pydata.org/generated/seaborn.lmplot.html) que oferece diversas opções de gráficos e muitos recursos de customização."
      ]
    },
    {
      "cell_type": "code",
      "metadata": {
        "id": "qL0mQmLZpfT8"
      },
      "source": [
        "import seaborn as sns "
      ],
      "execution_count": null,
      "outputs": []
    },
    {
      "cell_type": "markdown",
      "metadata": {
        "id": "piNmqqQLJX9b"
      },
      "source": [
        "Utilizamos a função `scatterplot()` para plotar um gráfico de dispersão. \n",
        "\n",
        "* Os parâmetros x e y indicam as variáveis independente e dependente, respectivamente.\n",
        "* No parâmeto `data` especifica-se o nome da tabela (dataframe)."
      ]
    },
    {
      "cell_type": "code",
      "metadata": {
        "id": "3krc8rUCJFP6",
        "outputId": "9efcaaac-1d80-455e-fec2-7ad4cfca872a",
        "colab": {
          "base_uri": "https://localhost:8080/",
          "height": 296
        }
      },
      "source": [
        "sns.scatterplot(x='Faltas', y='Notas', data=alunos)"
      ],
      "execution_count": null,
      "outputs": [
        {
          "output_type": "execute_result",
          "data": {
            "text/plain": [
              "<matplotlib.axes._subplots.AxesSubplot at 0x7f4eaf64c358>"
            ]
          },
          "metadata": {
            "tags": []
          },
          "execution_count": 7
        },
        {
          "output_type": "display_data",
          "data": {
            "image/png": "[encoded data removed]",
            "text/plain": [
              "<Figure size 432x288 with 1 Axes>"
            ]
          },
          "metadata": {
            "tags": [],
            "needs_background": "light"
          }
        }
      ]
    },
    {
      "cell_type": "markdown",
      "metadata": {
        "id": "vRaQ36AqJ0Wg"
      },
      "source": [
        "Podemos aprimorar o gráfico de dispersão (com o Seaborn). "
      ]
    },
    {
      "cell_type": "markdown",
      "metadata": {
        "id": "3J9QQWg9KdYU"
      },
      "source": [
        "Podemos, por exemplo, traçar uma reta sobre os pontos:\n",
        "* a função `lmplot()` traça uma reta \"sobre os pontos\" (aproximação dos pontos);\n",
        "* fig.set_size_inches define a dimensão da figura (imagem);\n",
        "* fig.suptitles define um título para o gráfico\n",
        "* set_xlabels e set_ylabels definem títulos para os respectivos eixos.\n",
        "\n",
        "[ATENÇÃO]:`lm` em `lmplot` significa `linear model` (modelo linear)"
      ]
    },
    {
      "cell_type": "code",
      "metadata": {
        "id": "kQE1cAJPq2mK",
        "outputId": "39d8d4f2-3178-4fcc-e97b-ff60015f36c6",
        "colab": {
          "base_uri": "https://localhost:8080/",
          "height": 490
        }
      },
      "source": [
        "# graf é o nome da variável que armazena o gráfico (poderíamos usar outro nome de variável) \n",
        "graf = sns.lmplot(x=\"Faltas\", y=\"Notas\", data=alunos)\n",
        "graf.fig.set_size_inches(12,6)\n",
        "graf.fig.suptitle('Faltas X Notas', fontsize=16, y=1.02)\n",
        "graf.set_xlabels(\"Faltas por Semestre (X)\", fontsize=14)\n",
        "graf.set_ylabels(\"Nota Final (Y)\", fontsize=14)"
      ],
      "execution_count": null,
      "outputs": [
        {
          "output_type": "execute_result",
          "data": {
            "text/plain": [
              "<seaborn.axisgrid.FacetGrid at 0x7f4eaf5c7fd0>"
            ]
          },
          "metadata": {
            "tags": []
          },
          "execution_count": 8
        },
        {
          "output_type": "display_data",
          "data": {
            "image/png": "[encoded data removed]",
            "text/plain": [
              "<Figure size 864x432 with 1 Axes>"
            ]
          },
          "metadata": {
            "tags": [],
            "needs_background": "light"
          }
        }
      ]
    },
    {
      "cell_type": "markdown",
      "metadata": {
        "id": "L1o9HtT2LEaI"
      },
      "source": [
        "A reta sobre os pontos é a **Reta de Regressão** que ainda será estimada. Veremos como fazer isso mais adiante. "
      ]
    },
    {
      "cell_type": "markdown",
      "metadata": {
        "id": "bn_g9g0ctXiw"
      },
      "source": [
        "A reta ajuda a enxergar a correlação no gráfico de dispersão. A partir do gráfico, observa-se a existência de **CORRELAÇÃO NEGATIVA**, pois a medida que a **Nota Final (Y)** **DIMINUI** as **Faltas por Semestre (X)** **AUMENTAM**. Neste caso, a **Nota Final** depende da quantidade de **Faltas por Semestre**.    \n"
      ]
    },
    {
      "cell_type": "markdown",
      "metadata": {
        "id": "rYMccGl1yTgt"
      },
      "source": [
        "O **coeficiente de correlação** e o **gráfico de dispersão** são elementos que conjuntamente ajudam a analisar a relação entre duas variáveis."
      ]
    },
    {
      "cell_type": "markdown",
      "metadata": {
        "id": "1r_2xSsEyzLA"
      },
      "source": [
        "É importante destacar que é preciso muito cuidado ao avaliar as correlações. Alguns dados podem indicar uma correlação que não existe de fato, sendo apenas obra do acaso. \n",
        "\n",
        "De fato, “correlação não implica causalidade”. O que um alto índice de correlação quer dizer é que \"pode ser que a primeira variável cause este comportamento na segunda, que a segunda causa este comportamento na primeira, que ambas causam o comportamento na outra ou isso também pode não dizer nada, como nos casos que mencionamos acima. \n",
        "\n",
        "Nas análises e conclusões é sempre importante usar diversas medidas e principalmente conhecer bem os dados."
      ]
    }
  ]
}